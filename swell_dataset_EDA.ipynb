{
  "cells": [
    {
      "cell_type": "markdown",
      "metadata": {
        "id": "h37R_oC5QQZC"
      },
      "source": [
        "# Importing necessary libraries"
      ]
    },
    {
      "cell_type": "code",
      "execution_count": null,
      "metadata": {
        "id": "Gp5r1aWV6LU4"
      },
      "outputs": [],
      "source": [
        "import pandas as pd\n",
        "import numpy as np\n",
        "import pandas_profiling as pp\n",
        "import matplotlib.pyplot as plt\n",
        "#import seaborn as sns\n",
        "from sklearn import preprocessing\n",
        "from sklearn.metrics import classification_report\n",
        "from sklearn.metrics import accuracy_score\n",
        "from sklearn.ensemble import RandomForestClassifier\n",
        "import pickle\n",
        "from sklearn.neural_network import MLPClassifier\n",
        "from sklearn.neighbors import KNeighborsClassifier\n",
        "from sklearn.linear_model import LogisticRegression\n",
        "from sklearn import svm\n",
        "\n"
      ]
    },
    {
      "cell_type": "markdown",
      "metadata": {
        "id": "JTsEFTtTQYqB"
      },
      "source": [
        "# Importing Data from \"SWELL\" Dataset."
      ]
    },
    {
      "cell_type": "code",
      "execution_count": null,
      "metadata": {
        "id": "duApIz7O6_6w",
        "colab": {
          "base_uri": "https://localhost:8080/"
        },
        "outputId": "ab9e2613-3d93-45d0-fcf5-704fef7042d9"
      },
      "outputs": [
        {
          "output_type": "stream",
          "name": "stdout",
          "text": [
            "all good\n"
          ]
        }
      ],
      "source": [
        "train = pd.read_csv(\"train.csv\")\n",
        "test = pd.read_csv(\"test.csv\")\n",
        "print('all good')\n"
      ]
    },
    {
      "cell_type": "code",
      "execution_count": null,
      "metadata": {
        "id": "UF-MAW907Hyz",
        "colab": {
          "base_uri": "https://localhost:8080/",
          "height": 488
        },
        "outputId": "a35a7c17-656d-4354-f6f6-75543470b648"
      },
      "outputs": [
        {
          "output_type": "execute_result",
          "data": {
            "text/plain": [
              "            MEAN_RR    MEDIAN_RR        SDRR      RMSSD       SDSD  \\\n",
              "0        885.157845   853.763730  140.972741  15.554505  15.553371   \n",
              "1        939.425371   948.357865   81.317742  12.964439  12.964195   \n",
              "2        898.186047   907.006860   84.497236  16.305279  16.305274   \n",
              "3        881.757865   893.460030   90.370537  15.720468  15.720068   \n",
              "4        809.625331   811.184865   62.766242  19.213819  19.213657   \n",
              "...             ...          ...         ...        ...        ...   \n",
              "369284   721.396910   721.533965   36.377559   9.609941   9.609936   \n",
              "369285   984.266492   978.622945   74.918433  13.762274  13.761705   \n",
              "369286  1025.499743  1024.968400   95.309200  23.051254  23.050395   \n",
              "369287   798.123167   803.559610   78.449897  16.736686  16.736657   \n",
              "369288   814.428911   815.178790   67.697387  20.649551  20.649546   \n",
              "\n",
              "        SDRR_RMSSD         HR      pNN25     pNN50        SD1  ...         HF  \\\n",
              "0         9.063146  69.499952  11.133333  0.533333  11.001565  ...  15.522603   \n",
              "1         6.272369  64.363150   5.600000  0.000000   9.170129  ...   2.108525   \n",
              "2         5.182201  67.450066  13.066667  0.200000  11.533417  ...  13.769729   \n",
              "3         5.748591  68.809562  11.800000  0.133333  11.119476  ...  18.181913   \n",
              "4         3.266724  74.565728  20.200000  0.200000  13.590641  ...  48.215822   \n",
              "...            ...        ...        ...       ...        ...  ...        ...   \n",
              "369284    3.785409  83.384647   0.933333  0.000000   6.797519  ...  38.227175   \n",
              "369285    5.443754  61.314243   6.333333  0.200000   9.734243  ...   2.573834   \n",
              "369286    4.134664  59.028594  30.400000  2.066667  16.304530  ...   4.287216   \n",
              "369287    4.687302  75.978628  10.000000  1.466667  11.838553  ...  46.636158   \n",
              "369288    3.278395  74.197905  23.400000  0.533333  14.606307  ...  60.596026   \n",
              "\n",
              "          HF_PCT      HF_NU           TP       LF_HF     HF_LF    sampen  \\\n",
              "0       0.421047   1.514737  3686.666157   65.018055  0.015380  2.139754   \n",
              "1       0.070133   0.304603  3006.487251  327.296635  0.003055  2.174499   \n",
              "2       0.512671   1.049528  2685.879461   94.280910  0.010607  2.135350   \n",
              "3       0.529387   1.775294  3434.520980   55.328701  0.018074  2.178341   \n",
              "4       1.839473   3.279993  2621.175204   29.487873  0.033912  2.221121   \n",
              "...          ...        ...          ...         ...       ...       ...   \n",
              "369284  5.886975  10.880317   649.351702    8.190908  0.122087  2.096850   \n",
              "369285  0.112964   0.357547  2278.456746  278.683532  0.003588  2.131264   \n",
              "369286  0.098983   0.180070  4331.259564  554.340761  0.001804  2.215643   \n",
              "369287  1.591647   3.522995  2930.056129   27.384942  0.036516  2.091628   \n",
              "369288  1.907159   3.438658  3177.292709   28.081116  0.035611  2.208193   \n",
              "\n",
              "          higuci  datasetId     condition  \n",
              "0       1.163485          2     no stress  \n",
              "1       1.084711          2  interruption  \n",
              "2       1.176315          2  interruption  \n",
              "3       1.179688          2     no stress  \n",
              "4       1.249612          2     no stress  \n",
              "...          ...        ...           ...  \n",
              "369284  1.314910          2     no stress  \n",
              "369285  1.175975          2     no stress  \n",
              "369286  1.140232          2     no stress  \n",
              "369287  1.181937          2     no stress  \n",
              "369288  1.234087          2     no stress  \n",
              "\n",
              "[369289 rows x 36 columns]"
            ],
            "text/html": [
              "\n",
              "  <div id=\"df-a79e6135-3993-4c66-b51e-0106549ae05b\">\n",
              "    <div class=\"colab-df-container\">\n",
              "      <div>\n",
              "<style scoped>\n",
              "    .dataframe tbody tr th:only-of-type {\n",
              "        vertical-align: middle;\n",
              "    }\n",
              "\n",
              "    .dataframe tbody tr th {\n",
              "        vertical-align: top;\n",
              "    }\n",
              "\n",
              "    .dataframe thead th {\n",
              "        text-align: right;\n",
              "    }\n",
              "</style>\n",
              "<table border=\"1\" class=\"dataframe\">\n",
              "  <thead>\n",
              "    <tr style=\"text-align: right;\">\n",
              "      <th></th>\n",
              "      <th>MEAN_RR</th>\n",
              "      <th>MEDIAN_RR</th>\n",
              "      <th>SDRR</th>\n",
              "      <th>RMSSD</th>\n",
              "      <th>SDSD</th>\n",
              "      <th>SDRR_RMSSD</th>\n",
              "      <th>HR</th>\n",
              "      <th>pNN25</th>\n",
              "      <th>pNN50</th>\n",
              "      <th>SD1</th>\n",
              "      <th>...</th>\n",
              "      <th>HF</th>\n",
              "      <th>HF_PCT</th>\n",
              "      <th>HF_NU</th>\n",
              "      <th>TP</th>\n",
              "      <th>LF_HF</th>\n",
              "      <th>HF_LF</th>\n",
              "      <th>sampen</th>\n",
              "      <th>higuci</th>\n",
              "      <th>datasetId</th>\n",
              "      <th>condition</th>\n",
              "    </tr>\n",
              "  </thead>\n",
              "  <tbody>\n",
              "    <tr>\n",
              "      <th>0</th>\n",
              "      <td>885.157845</td>\n",
              "      <td>853.763730</td>\n",
              "      <td>140.972741</td>\n",
              "      <td>15.554505</td>\n",
              "      <td>15.553371</td>\n",
              "      <td>9.063146</td>\n",
              "      <td>69.499952</td>\n",
              "      <td>11.133333</td>\n",
              "      <td>0.533333</td>\n",
              "      <td>11.001565</td>\n",
              "      <td>...</td>\n",
              "      <td>15.522603</td>\n",
              "      <td>0.421047</td>\n",
              "      <td>1.514737</td>\n",
              "      <td>3686.666157</td>\n",
              "      <td>65.018055</td>\n",
              "      <td>0.015380</td>\n",
              "      <td>2.139754</td>\n",
              "      <td>1.163485</td>\n",
              "      <td>2</td>\n",
              "      <td>no stress</td>\n",
              "    </tr>\n",
              "    <tr>\n",
              "      <th>1</th>\n",
              "      <td>939.425371</td>\n",
              "      <td>948.357865</td>\n",
              "      <td>81.317742</td>\n",
              "      <td>12.964439</td>\n",
              "      <td>12.964195</td>\n",
              "      <td>6.272369</td>\n",
              "      <td>64.363150</td>\n",
              "      <td>5.600000</td>\n",
              "      <td>0.000000</td>\n",
              "      <td>9.170129</td>\n",
              "      <td>...</td>\n",
              "      <td>2.108525</td>\n",
              "      <td>0.070133</td>\n",
              "      <td>0.304603</td>\n",
              "      <td>3006.487251</td>\n",
              "      <td>327.296635</td>\n",
              "      <td>0.003055</td>\n",
              "      <td>2.174499</td>\n",
              "      <td>1.084711</td>\n",
              "      <td>2</td>\n",
              "      <td>interruption</td>\n",
              "    </tr>\n",
              "    <tr>\n",
              "      <th>2</th>\n",
              "      <td>898.186047</td>\n",
              "      <td>907.006860</td>\n",
              "      <td>84.497236</td>\n",
              "      <td>16.305279</td>\n",
              "      <td>16.305274</td>\n",
              "      <td>5.182201</td>\n",
              "      <td>67.450066</td>\n",
              "      <td>13.066667</td>\n",
              "      <td>0.200000</td>\n",
              "      <td>11.533417</td>\n",
              "      <td>...</td>\n",
              "      <td>13.769729</td>\n",
              "      <td>0.512671</td>\n",
              "      <td>1.049528</td>\n",
              "      <td>2685.879461</td>\n",
              "      <td>94.280910</td>\n",
              "      <td>0.010607</td>\n",
              "      <td>2.135350</td>\n",
              "      <td>1.176315</td>\n",
              "      <td>2</td>\n",
              "      <td>interruption</td>\n",
              "    </tr>\n",
              "    <tr>\n",
              "      <th>3</th>\n",
              "      <td>881.757865</td>\n",
              "      <td>893.460030</td>\n",
              "      <td>90.370537</td>\n",
              "      <td>15.720468</td>\n",
              "      <td>15.720068</td>\n",
              "      <td>5.748591</td>\n",
              "      <td>68.809562</td>\n",
              "      <td>11.800000</td>\n",
              "      <td>0.133333</td>\n",
              "      <td>11.119476</td>\n",
              "      <td>...</td>\n",
              "      <td>18.181913</td>\n",
              "      <td>0.529387</td>\n",
              "      <td>1.775294</td>\n",
              "      <td>3434.520980</td>\n",
              "      <td>55.328701</td>\n",
              "      <td>0.018074</td>\n",
              "      <td>2.178341</td>\n",
              "      <td>1.179688</td>\n",
              "      <td>2</td>\n",
              "      <td>no stress</td>\n",
              "    </tr>\n",
              "    <tr>\n",
              "      <th>4</th>\n",
              "      <td>809.625331</td>\n",
              "      <td>811.184865</td>\n",
              "      <td>62.766242</td>\n",
              "      <td>19.213819</td>\n",
              "      <td>19.213657</td>\n",
              "      <td>3.266724</td>\n",
              "      <td>74.565728</td>\n",
              "      <td>20.200000</td>\n",
              "      <td>0.200000</td>\n",
              "      <td>13.590641</td>\n",
              "      <td>...</td>\n",
              "      <td>48.215822</td>\n",
              "      <td>1.839473</td>\n",
              "      <td>3.279993</td>\n",
              "      <td>2621.175204</td>\n",
              "      <td>29.487873</td>\n",
              "      <td>0.033912</td>\n",
              "      <td>2.221121</td>\n",
              "      <td>1.249612</td>\n",
              "      <td>2</td>\n",
              "      <td>no stress</td>\n",
              "    </tr>\n",
              "    <tr>\n",
              "      <th>...</th>\n",
              "      <td>...</td>\n",
              "      <td>...</td>\n",
              "      <td>...</td>\n",
              "      <td>...</td>\n",
              "      <td>...</td>\n",
              "      <td>...</td>\n",
              "      <td>...</td>\n",
              "      <td>...</td>\n",
              "      <td>...</td>\n",
              "      <td>...</td>\n",
              "      <td>...</td>\n",
              "      <td>...</td>\n",
              "      <td>...</td>\n",
              "      <td>...</td>\n",
              "      <td>...</td>\n",
              "      <td>...</td>\n",
              "      <td>...</td>\n",
              "      <td>...</td>\n",
              "      <td>...</td>\n",
              "      <td>...</td>\n",
              "      <td>...</td>\n",
              "    </tr>\n",
              "    <tr>\n",
              "      <th>369284</th>\n",
              "      <td>721.396910</td>\n",
              "      <td>721.533965</td>\n",
              "      <td>36.377559</td>\n",
              "      <td>9.609941</td>\n",
              "      <td>9.609936</td>\n",
              "      <td>3.785409</td>\n",
              "      <td>83.384647</td>\n",
              "      <td>0.933333</td>\n",
              "      <td>0.000000</td>\n",
              "      <td>6.797519</td>\n",
              "      <td>...</td>\n",
              "      <td>38.227175</td>\n",
              "      <td>5.886975</td>\n",
              "      <td>10.880317</td>\n",
              "      <td>649.351702</td>\n",
              "      <td>8.190908</td>\n",
              "      <td>0.122087</td>\n",
              "      <td>2.096850</td>\n",
              "      <td>1.314910</td>\n",
              "      <td>2</td>\n",
              "      <td>no stress</td>\n",
              "    </tr>\n",
              "    <tr>\n",
              "      <th>369285</th>\n",
              "      <td>984.266492</td>\n",
              "      <td>978.622945</td>\n",
              "      <td>74.918433</td>\n",
              "      <td>13.762274</td>\n",
              "      <td>13.761705</td>\n",
              "      <td>5.443754</td>\n",
              "      <td>61.314243</td>\n",
              "      <td>6.333333</td>\n",
              "      <td>0.200000</td>\n",
              "      <td>9.734243</td>\n",
              "      <td>...</td>\n",
              "      <td>2.573834</td>\n",
              "      <td>0.112964</td>\n",
              "      <td>0.357547</td>\n",
              "      <td>2278.456746</td>\n",
              "      <td>278.683532</td>\n",
              "      <td>0.003588</td>\n",
              "      <td>2.131264</td>\n",
              "      <td>1.175975</td>\n",
              "      <td>2</td>\n",
              "      <td>no stress</td>\n",
              "    </tr>\n",
              "    <tr>\n",
              "      <th>369286</th>\n",
              "      <td>1025.499743</td>\n",
              "      <td>1024.968400</td>\n",
              "      <td>95.309200</td>\n",
              "      <td>23.051254</td>\n",
              "      <td>23.050395</td>\n",
              "      <td>4.134664</td>\n",
              "      <td>59.028594</td>\n",
              "      <td>30.400000</td>\n",
              "      <td>2.066667</td>\n",
              "      <td>16.304530</td>\n",
              "      <td>...</td>\n",
              "      <td>4.287216</td>\n",
              "      <td>0.098983</td>\n",
              "      <td>0.180070</td>\n",
              "      <td>4331.259564</td>\n",
              "      <td>554.340761</td>\n",
              "      <td>0.001804</td>\n",
              "      <td>2.215643</td>\n",
              "      <td>1.140232</td>\n",
              "      <td>2</td>\n",
              "      <td>no stress</td>\n",
              "    </tr>\n",
              "    <tr>\n",
              "      <th>369287</th>\n",
              "      <td>798.123167</td>\n",
              "      <td>803.559610</td>\n",
              "      <td>78.449897</td>\n",
              "      <td>16.736686</td>\n",
              "      <td>16.736657</td>\n",
              "      <td>4.687302</td>\n",
              "      <td>75.978628</td>\n",
              "      <td>10.000000</td>\n",
              "      <td>1.466667</td>\n",
              "      <td>11.838553</td>\n",
              "      <td>...</td>\n",
              "      <td>46.636158</td>\n",
              "      <td>1.591647</td>\n",
              "      <td>3.522995</td>\n",
              "      <td>2930.056129</td>\n",
              "      <td>27.384942</td>\n",
              "      <td>0.036516</td>\n",
              "      <td>2.091628</td>\n",
              "      <td>1.181937</td>\n",
              "      <td>2</td>\n",
              "      <td>no stress</td>\n",
              "    </tr>\n",
              "    <tr>\n",
              "      <th>369288</th>\n",
              "      <td>814.428911</td>\n",
              "      <td>815.178790</td>\n",
              "      <td>67.697387</td>\n",
              "      <td>20.649551</td>\n",
              "      <td>20.649546</td>\n",
              "      <td>3.278395</td>\n",
              "      <td>74.197905</td>\n",
              "      <td>23.400000</td>\n",
              "      <td>0.533333</td>\n",
              "      <td>14.606307</td>\n",
              "      <td>...</td>\n",
              "      <td>60.596026</td>\n",
              "      <td>1.907159</td>\n",
              "      <td>3.438658</td>\n",
              "      <td>3177.292709</td>\n",
              "      <td>28.081116</td>\n",
              "      <td>0.035611</td>\n",
              "      <td>2.208193</td>\n",
              "      <td>1.234087</td>\n",
              "      <td>2</td>\n",
              "      <td>no stress</td>\n",
              "    </tr>\n",
              "  </tbody>\n",
              "</table>\n",
              "<p>369289 rows × 36 columns</p>\n",
              "</div>\n",
              "      <button class=\"colab-df-convert\" onclick=\"convertToInteractive('df-a79e6135-3993-4c66-b51e-0106549ae05b')\"\n",
              "              title=\"Convert this dataframe to an interactive table.\"\n",
              "              style=\"display:none;\">\n",
              "        \n",
              "  <svg xmlns=\"http://www.w3.org/2000/svg\" height=\"24px\"viewBox=\"0 0 24 24\"\n",
              "       width=\"24px\">\n",
              "    <path d=\"M0 0h24v24H0V0z\" fill=\"none\"/>\n",
              "    <path d=\"M18.56 5.44l.94 2.06.94-2.06 2.06-.94-2.06-.94-.94-2.06-.94 2.06-2.06.94zm-11 1L8.5 8.5l.94-2.06 2.06-.94-2.06-.94L8.5 2.5l-.94 2.06-2.06.94zm10 10l.94 2.06.94-2.06 2.06-.94-2.06-.94-.94-2.06-.94 2.06-2.06.94z\"/><path d=\"M17.41 7.96l-1.37-1.37c-.4-.4-.92-.59-1.43-.59-.52 0-1.04.2-1.43.59L10.3 9.45l-7.72 7.72c-.78.78-.78 2.05 0 2.83L4 21.41c.39.39.9.59 1.41.59.51 0 1.02-.2 1.41-.59l7.78-7.78 2.81-2.81c.8-.78.8-2.07 0-2.86zM5.41 20L4 18.59l7.72-7.72 1.47 1.35L5.41 20z\"/>\n",
              "  </svg>\n",
              "      </button>\n",
              "      \n",
              "  <style>\n",
              "    .colab-df-container {\n",
              "      display:flex;\n",
              "      flex-wrap:wrap;\n",
              "      gap: 12px;\n",
              "    }\n",
              "\n",
              "    .colab-df-convert {\n",
              "      background-color: #E8F0FE;\n",
              "      border: none;\n",
              "      border-radius: 50%;\n",
              "      cursor: pointer;\n",
              "      display: none;\n",
              "      fill: #1967D2;\n",
              "      height: 32px;\n",
              "      padding: 0 0 0 0;\n",
              "      width: 32px;\n",
              "    }\n",
              "\n",
              "    .colab-df-convert:hover {\n",
              "      background-color: #E2EBFA;\n",
              "      box-shadow: 0px 1px 2px rgba(60, 64, 67, 0.3), 0px 1px 3px 1px rgba(60, 64, 67, 0.15);\n",
              "      fill: #174EA6;\n",
              "    }\n",
              "\n",
              "    [theme=dark] .colab-df-convert {\n",
              "      background-color: #3B4455;\n",
              "      fill: #D2E3FC;\n",
              "    }\n",
              "\n",
              "    [theme=dark] .colab-df-convert:hover {\n",
              "      background-color: #434B5C;\n",
              "      box-shadow: 0px 1px 3px 1px rgba(0, 0, 0, 0.15);\n",
              "      filter: drop-shadow(0px 1px 2px rgba(0, 0, 0, 0.3));\n",
              "      fill: #FFFFFF;\n",
              "    }\n",
              "  </style>\n",
              "\n",
              "      <script>\n",
              "        const buttonEl =\n",
              "          document.querySelector('#df-a79e6135-3993-4c66-b51e-0106549ae05b button.colab-df-convert');\n",
              "        buttonEl.style.display =\n",
              "          google.colab.kernel.accessAllowed ? 'block' : 'none';\n",
              "\n",
              "        async function convertToInteractive(key) {\n",
              "          const element = document.querySelector('#df-a79e6135-3993-4c66-b51e-0106549ae05b');\n",
              "          const dataTable =\n",
              "            await google.colab.kernel.invokeFunction('convertToInteractive',\n",
              "                                                     [key], {});\n",
              "          if (!dataTable) return;\n",
              "\n",
              "          const docLinkHtml = 'Like what you see? Visit the ' +\n",
              "            '<a target=\"_blank\" href=https://colab.research.google.com/notebooks/data_table.ipynb>data table notebook</a>'\n",
              "            + ' to learn more about interactive tables.';\n",
              "          element.innerHTML = '';\n",
              "          dataTable['output_type'] = 'display_data';\n",
              "          await google.colab.output.renderOutput(dataTable, element);\n",
              "          const docLink = document.createElement('div');\n",
              "          docLink.innerHTML = docLinkHtml;\n",
              "          element.appendChild(docLink);\n",
              "        }\n",
              "      </script>\n",
              "    </div>\n",
              "  </div>\n",
              "  "
            ]
          },
          "metadata": {},
          "execution_count": 27
        }
      ],
      "source": [
        "train"
      ]
    },
    {
      "cell_type": "code",
      "execution_count": null,
      "metadata": {
        "id": "RYS1BWzf71p1",
        "colab": {
          "base_uri": "https://localhost:8080/",
          "height": 540
        },
        "outputId": "c4247277-2322-4b55-ce26-0741be3e08e5"
      },
      "outputs": [
        {
          "output_type": "execute_result",
          "data": {
            "text/plain": [
              "           MEAN_RR    MEDIAN_RR        SDRR      RMSSD       SDSD  SDRR_RMSSD  \\\n",
              "0       721.901897   727.267280   74.722315  12.361264  12.361069    6.044877   \n",
              "1       843.538633   844.407930   58.499429  19.298880  19.298795    3.031234   \n",
              "2       958.523868   966.671125  132.849110  21.342715  21.342653    6.224565   \n",
              "3       824.838669   842.485905  117.822094  11.771814  11.771248   10.008830   \n",
              "4       756.707933   747.941620  143.968457  13.357748  13.356388   10.777899   \n",
              "...            ...          ...         ...        ...        ...         ...   \n",
              "41028  1118.406543  1117.857050  113.955632  18.592177  18.592071    6.129225   \n",
              "41029   855.991173   765.221410  296.763366  20.623727  20.610745   14.389415   \n",
              "41030   689.388662   663.192770  133.815714  21.699038  21.696138    6.166896   \n",
              "41031   761.421571   761.064590   60.792671  11.280586  11.280573    5.389141   \n",
              "41032   868.040461   873.048735   61.301652  11.781442  11.781440    5.203239   \n",
              "\n",
              "              HR      pNN25     pNN50        SD1  ...          HF    HF_PCT  \\\n",
              "0      84.121868   4.933333  0.000000   8.743513  ...   66.617057  3.921868   \n",
              "1      71.478642  21.000000  0.200000  13.650863  ...   26.500086  1.123416   \n",
              "2      63.874293  24.133333  1.800000  15.096571  ...   16.024935  0.370208   \n",
              "3      74.330531   4.733333  0.533333   8.326307  ...   17.581470  0.615932   \n",
              "4      82.092049   5.933333  0.666667   9.447545  ...   35.199054  0.662879   \n",
              "...          ...        ...       ...        ...  ...         ...       ...   \n",
              "41028  54.234182  18.800000  0.266667  13.150967  ...    0.347514  0.006813   \n",
              "41029  76.416971  15.733333  3.533333  14.578861  ...  118.014128  1.383097   \n",
              "41030  90.254005  13.933333  4.000000  15.346606  ...  216.200973  3.559302   \n",
              "41031  79.313782   2.733333  0.266667   7.979232  ...   41.797177  3.124367   \n",
              "41032  69.484061   3.733333  0.000000   8.333516  ...    9.748285  0.580832   \n",
              "\n",
              "           HF_NU           TP        LF_HF     HF_LF    sampen    higuci  \\\n",
              "0       9.760289  1698.605390     9.245599  0.108160  2.097342  1.243696   \n",
              "1       1.663151  2358.884694    59.126832  0.016913  2.217275  1.250056   \n",
              "2       0.766416  4328.633724   129.477524  0.007723  2.217136  1.144943   \n",
              "3       3.358652  2854.449091    28.773854  0.034754  2.106863  1.142355   \n",
              "4       6.292253  5310.027472    14.892559  0.067148  1.912191  1.128098   \n",
              "...          ...          ...          ...       ...       ...       ...   \n",
              "41028   0.035830  5100.718213  2789.962965  0.000358  2.183460  1.082927   \n",
              "41029   8.622919  8532.599635    10.597001  0.094366  1.695327  1.154370   \n",
              "41030  10.160405  6074.251632     8.842128  0.113095  2.078000  1.214869   \n",
              "41031   6.905613  1337.780773    13.480973  0.074179  2.191379  1.234546   \n",
              "41032   1.408066  1678.332700    70.019404  0.014282  2.143131  1.142660   \n",
              "\n",
              "       datasetId      condition  \n",
              "0              2      no stress  \n",
              "1              2  time pressure  \n",
              "2              2      no stress  \n",
              "3              2      no stress  \n",
              "4              2   interruption  \n",
              "...          ...            ...  \n",
              "41028          2  time pressure  \n",
              "41029          2   interruption  \n",
              "41030          2      no stress  \n",
              "41031          2      no stress  \n",
              "41032          2  time pressure  \n",
              "\n",
              "[41033 rows x 36 columns]"
            ],
            "text/html": [
              "\n",
              "  <div id=\"df-e07c5039-6e3f-4824-ba0d-e998dc523feb\">\n",
              "    <div class=\"colab-df-container\">\n",
              "      <div>\n",
              "<style scoped>\n",
              "    .dataframe tbody tr th:only-of-type {\n",
              "        vertical-align: middle;\n",
              "    }\n",
              "\n",
              "    .dataframe tbody tr th {\n",
              "        vertical-align: top;\n",
              "    }\n",
              "\n",
              "    .dataframe thead th {\n",
              "        text-align: right;\n",
              "    }\n",
              "</style>\n",
              "<table border=\"1\" class=\"dataframe\">\n",
              "  <thead>\n",
              "    <tr style=\"text-align: right;\">\n",
              "      <th></th>\n",
              "      <th>MEAN_RR</th>\n",
              "      <th>MEDIAN_RR</th>\n",
              "      <th>SDRR</th>\n",
              "      <th>RMSSD</th>\n",
              "      <th>SDSD</th>\n",
              "      <th>SDRR_RMSSD</th>\n",
              "      <th>HR</th>\n",
              "      <th>pNN25</th>\n",
              "      <th>pNN50</th>\n",
              "      <th>SD1</th>\n",
              "      <th>...</th>\n",
              "      <th>HF</th>\n",
              "      <th>HF_PCT</th>\n",
              "      <th>HF_NU</th>\n",
              "      <th>TP</th>\n",
              "      <th>LF_HF</th>\n",
              "      <th>HF_LF</th>\n",
              "      <th>sampen</th>\n",
              "      <th>higuci</th>\n",
              "      <th>datasetId</th>\n",
              "      <th>condition</th>\n",
              "    </tr>\n",
              "  </thead>\n",
              "  <tbody>\n",
              "    <tr>\n",
              "      <th>0</th>\n",
              "      <td>721.901897</td>\n",
              "      <td>727.267280</td>\n",
              "      <td>74.722315</td>\n",
              "      <td>12.361264</td>\n",
              "      <td>12.361069</td>\n",
              "      <td>6.044877</td>\n",
              "      <td>84.121868</td>\n",
              "      <td>4.933333</td>\n",
              "      <td>0.000000</td>\n",
              "      <td>8.743513</td>\n",
              "      <td>...</td>\n",
              "      <td>66.617057</td>\n",
              "      <td>3.921868</td>\n",
              "      <td>9.760289</td>\n",
              "      <td>1698.605390</td>\n",
              "      <td>9.245599</td>\n",
              "      <td>0.108160</td>\n",
              "      <td>2.097342</td>\n",
              "      <td>1.243696</td>\n",
              "      <td>2</td>\n",
              "      <td>no stress</td>\n",
              "    </tr>\n",
              "    <tr>\n",
              "      <th>1</th>\n",
              "      <td>843.538633</td>\n",
              "      <td>844.407930</td>\n",
              "      <td>58.499429</td>\n",
              "      <td>19.298880</td>\n",
              "      <td>19.298795</td>\n",
              "      <td>3.031234</td>\n",
              "      <td>71.478642</td>\n",
              "      <td>21.000000</td>\n",
              "      <td>0.200000</td>\n",
              "      <td>13.650863</td>\n",
              "      <td>...</td>\n",
              "      <td>26.500086</td>\n",
              "      <td>1.123416</td>\n",
              "      <td>1.663151</td>\n",
              "      <td>2358.884694</td>\n",
              "      <td>59.126832</td>\n",
              "      <td>0.016913</td>\n",
              "      <td>2.217275</td>\n",
              "      <td>1.250056</td>\n",
              "      <td>2</td>\n",
              "      <td>time pressure</td>\n",
              "    </tr>\n",
              "    <tr>\n",
              "      <th>2</th>\n",
              "      <td>958.523868</td>\n",
              "      <td>966.671125</td>\n",
              "      <td>132.849110</td>\n",
              "      <td>21.342715</td>\n",
              "      <td>21.342653</td>\n",
              "      <td>6.224565</td>\n",
              "      <td>63.874293</td>\n",
              "      <td>24.133333</td>\n",
              "      <td>1.800000</td>\n",
              "      <td>15.096571</td>\n",
              "      <td>...</td>\n",
              "      <td>16.024935</td>\n",
              "      <td>0.370208</td>\n",
              "      <td>0.766416</td>\n",
              "      <td>4328.633724</td>\n",
              "      <td>129.477524</td>\n",
              "      <td>0.007723</td>\n",
              "      <td>2.217136</td>\n",
              "      <td>1.144943</td>\n",
              "      <td>2</td>\n",
              "      <td>no stress</td>\n",
              "    </tr>\n",
              "    <tr>\n",
              "      <th>3</th>\n",
              "      <td>824.838669</td>\n",
              "      <td>842.485905</td>\n",
              "      <td>117.822094</td>\n",
              "      <td>11.771814</td>\n",
              "      <td>11.771248</td>\n",
              "      <td>10.008830</td>\n",
              "      <td>74.330531</td>\n",
              "      <td>4.733333</td>\n",
              "      <td>0.533333</td>\n",
              "      <td>8.326307</td>\n",
              "      <td>...</td>\n",
              "      <td>17.581470</td>\n",
              "      <td>0.615932</td>\n",
              "      <td>3.358652</td>\n",
              "      <td>2854.449091</td>\n",
              "      <td>28.773854</td>\n",
              "      <td>0.034754</td>\n",
              "      <td>2.106863</td>\n",
              "      <td>1.142355</td>\n",
              "      <td>2</td>\n",
              "      <td>no stress</td>\n",
              "    </tr>\n",
              "    <tr>\n",
              "      <th>4</th>\n",
              "      <td>756.707933</td>\n",
              "      <td>747.941620</td>\n",
              "      <td>143.968457</td>\n",
              "      <td>13.357748</td>\n",
              "      <td>13.356388</td>\n",
              "      <td>10.777899</td>\n",
              "      <td>82.092049</td>\n",
              "      <td>5.933333</td>\n",
              "      <td>0.666667</td>\n",
              "      <td>9.447545</td>\n",
              "      <td>...</td>\n",
              "      <td>35.199054</td>\n",
              "      <td>0.662879</td>\n",
              "      <td>6.292253</td>\n",
              "      <td>5310.027472</td>\n",
              "      <td>14.892559</td>\n",
              "      <td>0.067148</td>\n",
              "      <td>1.912191</td>\n",
              "      <td>1.128098</td>\n",
              "      <td>2</td>\n",
              "      <td>interruption</td>\n",
              "    </tr>\n",
              "    <tr>\n",
              "      <th>...</th>\n",
              "      <td>...</td>\n",
              "      <td>...</td>\n",
              "      <td>...</td>\n",
              "      <td>...</td>\n",
              "      <td>...</td>\n",
              "      <td>...</td>\n",
              "      <td>...</td>\n",
              "      <td>...</td>\n",
              "      <td>...</td>\n",
              "      <td>...</td>\n",
              "      <td>...</td>\n",
              "      <td>...</td>\n",
              "      <td>...</td>\n",
              "      <td>...</td>\n",
              "      <td>...</td>\n",
              "      <td>...</td>\n",
              "      <td>...</td>\n",
              "      <td>...</td>\n",
              "      <td>...</td>\n",
              "      <td>...</td>\n",
              "      <td>...</td>\n",
              "    </tr>\n",
              "    <tr>\n",
              "      <th>41028</th>\n",
              "      <td>1118.406543</td>\n",
              "      <td>1117.857050</td>\n",
              "      <td>113.955632</td>\n",
              "      <td>18.592177</td>\n",
              "      <td>18.592071</td>\n",
              "      <td>6.129225</td>\n",
              "      <td>54.234182</td>\n",
              "      <td>18.800000</td>\n",
              "      <td>0.266667</td>\n",
              "      <td>13.150967</td>\n",
              "      <td>...</td>\n",
              "      <td>0.347514</td>\n",
              "      <td>0.006813</td>\n",
              "      <td>0.035830</td>\n",
              "      <td>5100.718213</td>\n",
              "      <td>2789.962965</td>\n",
              "      <td>0.000358</td>\n",
              "      <td>2.183460</td>\n",
              "      <td>1.082927</td>\n",
              "      <td>2</td>\n",
              "      <td>time pressure</td>\n",
              "    </tr>\n",
              "    <tr>\n",
              "      <th>41029</th>\n",
              "      <td>855.991173</td>\n",
              "      <td>765.221410</td>\n",
              "      <td>296.763366</td>\n",
              "      <td>20.623727</td>\n",
              "      <td>20.610745</td>\n",
              "      <td>14.389415</td>\n",
              "      <td>76.416971</td>\n",
              "      <td>15.733333</td>\n",
              "      <td>3.533333</td>\n",
              "      <td>14.578861</td>\n",
              "      <td>...</td>\n",
              "      <td>118.014128</td>\n",
              "      <td>1.383097</td>\n",
              "      <td>8.622919</td>\n",
              "      <td>8532.599635</td>\n",
              "      <td>10.597001</td>\n",
              "      <td>0.094366</td>\n",
              "      <td>1.695327</td>\n",
              "      <td>1.154370</td>\n",
              "      <td>2</td>\n",
              "      <td>interruption</td>\n",
              "    </tr>\n",
              "    <tr>\n",
              "      <th>41030</th>\n",
              "      <td>689.388662</td>\n",
              "      <td>663.192770</td>\n",
              "      <td>133.815714</td>\n",
              "      <td>21.699038</td>\n",
              "      <td>21.696138</td>\n",
              "      <td>6.166896</td>\n",
              "      <td>90.254005</td>\n",
              "      <td>13.933333</td>\n",
              "      <td>4.000000</td>\n",
              "      <td>15.346606</td>\n",
              "      <td>...</td>\n",
              "      <td>216.200973</td>\n",
              "      <td>3.559302</td>\n",
              "      <td>10.160405</td>\n",
              "      <td>6074.251632</td>\n",
              "      <td>8.842128</td>\n",
              "      <td>0.113095</td>\n",
              "      <td>2.078000</td>\n",
              "      <td>1.214869</td>\n",
              "      <td>2</td>\n",
              "      <td>no stress</td>\n",
              "    </tr>\n",
              "    <tr>\n",
              "      <th>41031</th>\n",
              "      <td>761.421571</td>\n",
              "      <td>761.064590</td>\n",
              "      <td>60.792671</td>\n",
              "      <td>11.280586</td>\n",
              "      <td>11.280573</td>\n",
              "      <td>5.389141</td>\n",
              "      <td>79.313782</td>\n",
              "      <td>2.733333</td>\n",
              "      <td>0.266667</td>\n",
              "      <td>7.979232</td>\n",
              "      <td>...</td>\n",
              "      <td>41.797177</td>\n",
              "      <td>3.124367</td>\n",
              "      <td>6.905613</td>\n",
              "      <td>1337.780773</td>\n",
              "      <td>13.480973</td>\n",
              "      <td>0.074179</td>\n",
              "      <td>2.191379</td>\n",
              "      <td>1.234546</td>\n",
              "      <td>2</td>\n",
              "      <td>no stress</td>\n",
              "    </tr>\n",
              "    <tr>\n",
              "      <th>41032</th>\n",
              "      <td>868.040461</td>\n",
              "      <td>873.048735</td>\n",
              "      <td>61.301652</td>\n",
              "      <td>11.781442</td>\n",
              "      <td>11.781440</td>\n",
              "      <td>5.203239</td>\n",
              "      <td>69.484061</td>\n",
              "      <td>3.733333</td>\n",
              "      <td>0.000000</td>\n",
              "      <td>8.333516</td>\n",
              "      <td>...</td>\n",
              "      <td>9.748285</td>\n",
              "      <td>0.580832</td>\n",
              "      <td>1.408066</td>\n",
              "      <td>1678.332700</td>\n",
              "      <td>70.019404</td>\n",
              "      <td>0.014282</td>\n",
              "      <td>2.143131</td>\n",
              "      <td>1.142660</td>\n",
              "      <td>2</td>\n",
              "      <td>time pressure</td>\n",
              "    </tr>\n",
              "  </tbody>\n",
              "</table>\n",
              "<p>41033 rows × 36 columns</p>\n",
              "</div>\n",
              "      <button class=\"colab-df-convert\" onclick=\"convertToInteractive('df-e07c5039-6e3f-4824-ba0d-e998dc523feb')\"\n",
              "              title=\"Convert this dataframe to an interactive table.\"\n",
              "              style=\"display:none;\">\n",
              "        \n",
              "  <svg xmlns=\"http://www.w3.org/2000/svg\" height=\"24px\"viewBox=\"0 0 24 24\"\n",
              "       width=\"24px\">\n",
              "    <path d=\"M0 0h24v24H0V0z\" fill=\"none\"/>\n",
              "    <path d=\"M18.56 5.44l.94 2.06.94-2.06 2.06-.94-2.06-.94-.94-2.06-.94 2.06-2.06.94zm-11 1L8.5 8.5l.94-2.06 2.06-.94-2.06-.94L8.5 2.5l-.94 2.06-2.06.94zm10 10l.94 2.06.94-2.06 2.06-.94-2.06-.94-.94-2.06-.94 2.06-2.06.94z\"/><path d=\"M17.41 7.96l-1.37-1.37c-.4-.4-.92-.59-1.43-.59-.52 0-1.04.2-1.43.59L10.3 9.45l-7.72 7.72c-.78.78-.78 2.05 0 2.83L4 21.41c.39.39.9.59 1.41.59.51 0 1.02-.2 1.41-.59l7.78-7.78 2.81-2.81c.8-.78.8-2.07 0-2.86zM5.41 20L4 18.59l7.72-7.72 1.47 1.35L5.41 20z\"/>\n",
              "  </svg>\n",
              "      </button>\n",
              "      \n",
              "  <style>\n",
              "    .colab-df-container {\n",
              "      display:flex;\n",
              "      flex-wrap:wrap;\n",
              "      gap: 12px;\n",
              "    }\n",
              "\n",
              "    .colab-df-convert {\n",
              "      background-color: #E8F0FE;\n",
              "      border: none;\n",
              "      border-radius: 50%;\n",
              "      cursor: pointer;\n",
              "      display: none;\n",
              "      fill: #1967D2;\n",
              "      height: 32px;\n",
              "      padding: 0 0 0 0;\n",
              "      width: 32px;\n",
              "    }\n",
              "\n",
              "    .colab-df-convert:hover {\n",
              "      background-color: #E2EBFA;\n",
              "      box-shadow: 0px 1px 2px rgba(60, 64, 67, 0.3), 0px 1px 3px 1px rgba(60, 64, 67, 0.15);\n",
              "      fill: #174EA6;\n",
              "    }\n",
              "\n",
              "    [theme=dark] .colab-df-convert {\n",
              "      background-color: #3B4455;\n",
              "      fill: #D2E3FC;\n",
              "    }\n",
              "\n",
              "    [theme=dark] .colab-df-convert:hover {\n",
              "      background-color: #434B5C;\n",
              "      box-shadow: 0px 1px 3px 1px rgba(0, 0, 0, 0.15);\n",
              "      filter: drop-shadow(0px 1px 2px rgba(0, 0, 0, 0.3));\n",
              "      fill: #FFFFFF;\n",
              "    }\n",
              "  </style>\n",
              "\n",
              "      <script>\n",
              "        const buttonEl =\n",
              "          document.querySelector('#df-e07c5039-6e3f-4824-ba0d-e998dc523feb button.colab-df-convert');\n",
              "        buttonEl.style.display =\n",
              "          google.colab.kernel.accessAllowed ? 'block' : 'none';\n",
              "\n",
              "        async function convertToInteractive(key) {\n",
              "          const element = document.querySelector('#df-e07c5039-6e3f-4824-ba0d-e998dc523feb');\n",
              "          const dataTable =\n",
              "            await google.colab.kernel.invokeFunction('convertToInteractive',\n",
              "                                                     [key], {});\n",
              "          if (!dataTable) return;\n",
              "\n",
              "          const docLinkHtml = 'Like what you see? Visit the ' +\n",
              "            '<a target=\"_blank\" href=https://colab.research.google.com/notebooks/data_table.ipynb>data table notebook</a>'\n",
              "            + ' to learn more about interactive tables.';\n",
              "          element.innerHTML = '';\n",
              "          dataTable['output_type'] = 'display_data';\n",
              "          await google.colab.output.renderOutput(dataTable, element);\n",
              "          const docLink = document.createElement('div');\n",
              "          docLink.innerHTML = docLinkHtml;\n",
              "          element.appendChild(docLink);\n",
              "        }\n",
              "      </script>\n",
              "    </div>\n",
              "  </div>\n",
              "  "
            ]
          },
          "metadata": {},
          "execution_count": 28
        }
      ],
      "source": [
        "test"
      ]
    },
    {
      "cell_type": "code",
      "execution_count": null,
      "metadata": {
        "id": "JWlgHHwVZAhW",
        "outputId": "30f6fba9-d50a-43ec-c86f-2da8f313be03",
        "colab": {
          "base_uri": "https://localhost:8080/"
        }
      },
      "outputs": [
        {
          "output_type": "execute_result",
          "data": {
            "text/plain": [
              "array(['no stress', 'interruption', 'time pressure'], dtype=object)"
            ]
          },
          "metadata": {},
          "execution_count": 29
        }
      ],
      "source": [
        "train['condition'].unique()"
      ]
    },
    {
      "cell_type": "code",
      "execution_count": null,
      "metadata": {
        "id": "4-3mOxg9QzQJ"
      },
      "outputs": [],
      "source": [
        "conditions = dict(train['condition'].value_counts())\n",
        "labels = list(conditions.keys())\n",
        "counts = list(conditions.values())\n",
        "# plt.bar(labels,counts, color ='green',\n",
        "#         width = 0.4)\n"
      ]
    },
    {
      "cell_type": "code",
      "execution_count": null,
      "metadata": {
        "colab": {
          "base_uri": "https://localhost:8080/"
        },
        "id": "gQH2ox2msCVL",
        "outputId": "ddec0cd7-3881-4435-98c5-9370121ad35f"
      },
      "outputs": [
        {
          "output_type": "execute_result",
          "data": {
            "text/plain": [
              "{'no stress': 200082, 'interruption': 105150, 'time pressure': 64057}"
            ]
          },
          "metadata": {},
          "execution_count": 31
        }
      ],
      "source": [
        "conditions"
      ]
    },
    {
      "cell_type": "code",
      "execution_count": null,
      "metadata": {
        "colab": {
          "base_uri": "https://localhost:8080/"
        },
        "id": "FwZJnrNbsCVL",
        "outputId": "7d0df2e1-2801-4ac9-cf74-a6ebcf9fc151"
      },
      "outputs": [
        {
          "output_type": "execute_result",
          "data": {
            "text/plain": [
              "['no stress', 'interruption', 'time pressure']"
            ]
          },
          "metadata": {},
          "execution_count": 32
        }
      ],
      "source": [
        "labels"
      ]
    },
    {
      "cell_type": "code",
      "execution_count": null,
      "metadata": {
        "colab": {
          "base_uri": "https://localhost:8080/"
        },
        "id": "foX8qVxasCVM",
        "outputId": "95253987-818d-4196-a132-e9063460c8d6"
      },
      "outputs": [
        {
          "output_type": "execute_result",
          "data": {
            "text/plain": [
              "[200082, 105150, 64057]"
            ]
          },
          "metadata": {},
          "execution_count": 33
        }
      ],
      "source": [
        "counts"
      ]
    },
    {
      "cell_type": "code",
      "execution_count": null,
      "metadata": {
        "colab": {
          "base_uri": "https://localhost:8080/"
        },
        "id": "pICIngPqsCVN",
        "outputId": "b85fc7cf-787b-46bf-c15a-27c0fb6b63a9"
      },
      "outputs": [
        {
          "output_type": "execute_result",
          "data": {
            "text/plain": [
              "0         no stress\n",
              "1      interruption\n",
              "2      interruption\n",
              "3         no stress\n",
              "4         no stress\n",
              "5         no stress\n",
              "6         no stress\n",
              "7         no stress\n",
              "8      interruption\n",
              "9         no stress\n",
              "10    time pressure\n",
              "11        no stress\n",
              "12        no stress\n",
              "13     interruption\n",
              "14        no stress\n",
              "15        no stress\n",
              "16        no stress\n",
              "17        no stress\n",
              "18    time pressure\n",
              "19     interruption\n",
              "Name: condition, dtype: object"
            ]
          },
          "metadata": {},
          "execution_count": 5
        }
      ],
      "source": [
        "train['condition'][0:20]"
      ]
    },
    {
      "cell_type": "markdown",
      "metadata": {
        "id": "O963BYBWRD7V"
      },
      "source": [
        "# Encoding classification labels in \"Condition\" column"
      ]
    },
    {
      "cell_type": "code",
      "execution_count": null,
      "metadata": {
        "id": "XfqB9uj7d0Ru",
        "colab": {
          "base_uri": "https://localhost:8080/"
        },
        "outputId": "babfc8ac-eccb-419c-942a-2167a9e8d604"
      },
      "outputs": [
        {
          "output_type": "execute_result",
          "data": {
            "text/plain": [
              "0     1\n",
              "1     0\n",
              "2     0\n",
              "3     1\n",
              "4     1\n",
              "5     1\n",
              "6     1\n",
              "7     1\n",
              "8     0\n",
              "9     1\n",
              "10    2\n",
              "11    1\n",
              "12    1\n",
              "13    0\n",
              "14    1\n",
              "15    1\n",
              "16    1\n",
              "17    1\n",
              "18    2\n",
              "19    0\n",
              "Name: condition, dtype: int64"
            ]
          },
          "metadata": {},
          "execution_count": 6
        }
      ],
      "source": [
        "le = preprocessing.LabelEncoder()\n",
        "le.fit(train['condition'])\n",
        "train['condition'] = le.transform(train['condition'])\n",
        "test['condition'] = le.transform(test['condition'])\n",
        "train['condition'][0:20]"
      ]
    },
    {
      "cell_type": "markdown",
      "metadata": {
        "id": "dbZXnJ59RQqN"
      },
      "source": [
        "# Analysing Data using Pandas Profiling"
      ]
    },
    {
      "cell_type": "code",
      "execution_count": null,
      "metadata": {
        "id": "t8v_c5mnZgiz"
      },
      "outputs": [],
      "source": [
        "# profile = pd.ProfileReport(train)\n",
        "# #profile.to_file(\"output.html\")\n",
        "# print('all good')"
      ]
    },
    {
      "cell_type": "markdown",
      "metadata": {
        "id": "FIbpyNMyRmCW"
      },
      "source": [
        "# Plotting Pearson's Correlation Matrix to check dependency of variables"
      ]
    },
    {
      "cell_type": "code",
      "execution_count": null,
      "metadata": {
        "id": "Yuudq6H9dH0D"
      },
      "outputs": [],
      "source": [
        "# plt.figure(figsize=(12,10))\n",
        "corr = train.corr()\n",
        "#sns.heatmap(corr, annot=False, cmap=plt.cm.Reds)\n",
        "#plt.show()"
      ]
    },
    {
      "cell_type": "markdown",
      "metadata": {
        "id": "cRUOHRMYR6vp"
      },
      "source": [
        "# Defining a feature selection function "
      ]
    },
    {
      "cell_type": "markdown",
      "metadata": {
        "id": "R6L0C2mbSBsj"
      },
      "source": [
        "This function selects features which have a positive pearson's correlation with \"condition\" column of data. A suitable threshold is set for selcting such features."
      ]
    },
    {
      "cell_type": "code",
      "execution_count": null,
      "metadata": {
        "id": "OrJVaXOMnROO",
        "colab": {
          "base_uri": "https://localhost:8080/"
        },
        "outputId": "82b3d1b1-fdb2-4dcb-cf61-2b7cc5464808"
      },
      "outputs": [
        {
          "output_type": "execute_result",
          "data": {
            "text/plain": [
              "(36, 36)"
            ]
          },
          "metadata": {},
          "execution_count": 8
        }
      ],
      "source": [
        "def feature_selection(correlation,threshold):\n",
        "    selected_features = []\n",
        "    for i in range(corr.shape[0]):\n",
        "      if corr.iloc[i,35] > threshold:\n",
        "        selected_features.append(train.iloc[:,i])\n",
        "    return pd.DataFrame(selected_features).T\n",
        "\n",
        "corr.shape"
      ]
    },
    {
      "cell_type": "code",
      "execution_count": null,
      "metadata": {
        "id": "OI4b38z3nhHe"
      },
      "outputs": [],
      "source": [
        "CORRELATION_THRESHOLD = 0.1\n",
        "reduced_train = feature_selection(corr,CORRELATION_THRESHOLD)"
      ]
    },
    {
      "cell_type": "code",
      "execution_count": null,
      "metadata": {
        "id": "H283pSI05krR",
        "colab": {
          "base_uri": "https://localhost:8080/",
          "height": 488
        },
        "outputId": "a9299255-1507-4547-fab9-dbe6c2896427"
      },
      "outputs": [
        {
          "output_type": "execute_result",
          "data": {
            "text/plain": [
              "            MEAN_RR    MEDIAN_RR  SDRR_RMSSD  MEDIAN_REL_RR  \\\n",
              "0        885.157845   853.763730    9.063146      -0.000179   \n",
              "1        939.425371   948.357865    6.272369       0.000611   \n",
              "2        898.186047   907.006860    5.182201      -0.000263   \n",
              "3        881.757865   893.460030    5.748591       0.000494   \n",
              "4        809.625331   811.184865    3.266724      -0.002736   \n",
              "...             ...          ...         ...            ...   \n",
              "369284   721.396910   721.533965    3.785409       0.000083   \n",
              "369285   984.266492   978.622945    5.443754       0.000046   \n",
              "369286  1025.499743  1024.968400    4.134664      -0.002236   \n",
              "369287   798.123167   803.559610    4.687302      -0.001354   \n",
              "369288   814.428911   815.178790    3.278395      -0.002479   \n",
              "\n",
              "        SDRR_RMSSD_REL_RR          VLF    VLF_PCT  condition  \n",
              "0                2.143342  2661.894136  72.203287        1.0  \n",
              "1                2.930855  2314.265450  76.975728        0.0  \n",
              "2                2.127053  1373.887112  51.152225        0.0  \n",
              "3                2.050988  2410.357408  70.180308        1.0  \n",
              "4                1.816544  1151.177330  43.918366        1.0  \n",
              "...                   ...          ...        ...        ...  \n",
              "369284           1.529068   298.009244  45.893349        1.0  \n",
              "369285           2.218313  1558.597883  68.405858        1.0  \n",
              "369286           2.391601  1950.393956  45.030641        1.0  \n",
              "369287           1.894304  1606.291482  54.821185        1.0  \n",
              "369288           1.876939  1415.092653  44.537686        1.0  \n",
              "\n",
              "[369289 rows x 8 columns]"
            ],
            "text/html": [
              "\n",
              "  <div id=\"df-b8348432-55d8-4f5c-a391-9dffb8fad3a6\">\n",
              "    <div class=\"colab-df-container\">\n",
              "      <div>\n",
              "<style scoped>\n",
              "    .dataframe tbody tr th:only-of-type {\n",
              "        vertical-align: middle;\n",
              "    }\n",
              "\n",
              "    .dataframe tbody tr th {\n",
              "        vertical-align: top;\n",
              "    }\n",
              "\n",
              "    .dataframe thead th {\n",
              "        text-align: right;\n",
              "    }\n",
              "</style>\n",
              "<table border=\"1\" class=\"dataframe\">\n",
              "  <thead>\n",
              "    <tr style=\"text-align: right;\">\n",
              "      <th></th>\n",
              "      <th>MEAN_RR</th>\n",
              "      <th>MEDIAN_RR</th>\n",
              "      <th>SDRR_RMSSD</th>\n",
              "      <th>MEDIAN_REL_RR</th>\n",
              "      <th>SDRR_RMSSD_REL_RR</th>\n",
              "      <th>VLF</th>\n",
              "      <th>VLF_PCT</th>\n",
              "      <th>condition</th>\n",
              "    </tr>\n",
              "  </thead>\n",
              "  <tbody>\n",
              "    <tr>\n",
              "      <th>0</th>\n",
              "      <td>885.157845</td>\n",
              "      <td>853.763730</td>\n",
              "      <td>9.063146</td>\n",
              "      <td>-0.000179</td>\n",
              "      <td>2.143342</td>\n",
              "      <td>2661.894136</td>\n",
              "      <td>72.203287</td>\n",
              "      <td>1.0</td>\n",
              "    </tr>\n",
              "    <tr>\n",
              "      <th>1</th>\n",
              "      <td>939.425371</td>\n",
              "      <td>948.357865</td>\n",
              "      <td>6.272369</td>\n",
              "      <td>0.000611</td>\n",
              "      <td>2.930855</td>\n",
              "      <td>2314.265450</td>\n",
              "      <td>76.975728</td>\n",
              "      <td>0.0</td>\n",
              "    </tr>\n",
              "    <tr>\n",
              "      <th>2</th>\n",
              "      <td>898.186047</td>\n",
              "      <td>907.006860</td>\n",
              "      <td>5.182201</td>\n",
              "      <td>-0.000263</td>\n",
              "      <td>2.127053</td>\n",
              "      <td>1373.887112</td>\n",
              "      <td>51.152225</td>\n",
              "      <td>0.0</td>\n",
              "    </tr>\n",
              "    <tr>\n",
              "      <th>3</th>\n",
              "      <td>881.757865</td>\n",
              "      <td>893.460030</td>\n",
              "      <td>5.748591</td>\n",
              "      <td>0.000494</td>\n",
              "      <td>2.050988</td>\n",
              "      <td>2410.357408</td>\n",
              "      <td>70.180308</td>\n",
              "      <td>1.0</td>\n",
              "    </tr>\n",
              "    <tr>\n",
              "      <th>4</th>\n",
              "      <td>809.625331</td>\n",
              "      <td>811.184865</td>\n",
              "      <td>3.266724</td>\n",
              "      <td>-0.002736</td>\n",
              "      <td>1.816544</td>\n",
              "      <td>1151.177330</td>\n",
              "      <td>43.918366</td>\n",
              "      <td>1.0</td>\n",
              "    </tr>\n",
              "    <tr>\n",
              "      <th>...</th>\n",
              "      <td>...</td>\n",
              "      <td>...</td>\n",
              "      <td>...</td>\n",
              "      <td>...</td>\n",
              "      <td>...</td>\n",
              "      <td>...</td>\n",
              "      <td>...</td>\n",
              "      <td>...</td>\n",
              "    </tr>\n",
              "    <tr>\n",
              "      <th>369284</th>\n",
              "      <td>721.396910</td>\n",
              "      <td>721.533965</td>\n",
              "      <td>3.785409</td>\n",
              "      <td>0.000083</td>\n",
              "      <td>1.529068</td>\n",
              "      <td>298.009244</td>\n",
              "      <td>45.893349</td>\n",
              "      <td>1.0</td>\n",
              "    </tr>\n",
              "    <tr>\n",
              "      <th>369285</th>\n",
              "      <td>984.266492</td>\n",
              "      <td>978.622945</td>\n",
              "      <td>5.443754</td>\n",
              "      <td>0.000046</td>\n",
              "      <td>2.218313</td>\n",
              "      <td>1558.597883</td>\n",
              "      <td>68.405858</td>\n",
              "      <td>1.0</td>\n",
              "    </tr>\n",
              "    <tr>\n",
              "      <th>369286</th>\n",
              "      <td>1025.499743</td>\n",
              "      <td>1024.968400</td>\n",
              "      <td>4.134664</td>\n",
              "      <td>-0.002236</td>\n",
              "      <td>2.391601</td>\n",
              "      <td>1950.393956</td>\n",
              "      <td>45.030641</td>\n",
              "      <td>1.0</td>\n",
              "    </tr>\n",
              "    <tr>\n",
              "      <th>369287</th>\n",
              "      <td>798.123167</td>\n",
              "      <td>803.559610</td>\n",
              "      <td>4.687302</td>\n",
              "      <td>-0.001354</td>\n",
              "      <td>1.894304</td>\n",
              "      <td>1606.291482</td>\n",
              "      <td>54.821185</td>\n",
              "      <td>1.0</td>\n",
              "    </tr>\n",
              "    <tr>\n",
              "      <th>369288</th>\n",
              "      <td>814.428911</td>\n",
              "      <td>815.178790</td>\n",
              "      <td>3.278395</td>\n",
              "      <td>-0.002479</td>\n",
              "      <td>1.876939</td>\n",
              "      <td>1415.092653</td>\n",
              "      <td>44.537686</td>\n",
              "      <td>1.0</td>\n",
              "    </tr>\n",
              "  </tbody>\n",
              "</table>\n",
              "<p>369289 rows × 8 columns</p>\n",
              "</div>\n",
              "      <button class=\"colab-df-convert\" onclick=\"convertToInteractive('df-b8348432-55d8-4f5c-a391-9dffb8fad3a6')\"\n",
              "              title=\"Convert this dataframe to an interactive table.\"\n",
              "              style=\"display:none;\">\n",
              "        \n",
              "  <svg xmlns=\"http://www.w3.org/2000/svg\" height=\"24px\"viewBox=\"0 0 24 24\"\n",
              "       width=\"24px\">\n",
              "    <path d=\"M0 0h24v24H0V0z\" fill=\"none\"/>\n",
              "    <path d=\"M18.56 5.44l.94 2.06.94-2.06 2.06-.94-2.06-.94-.94-2.06-.94 2.06-2.06.94zm-11 1L8.5 8.5l.94-2.06 2.06-.94-2.06-.94L8.5 2.5l-.94 2.06-2.06.94zm10 10l.94 2.06.94-2.06 2.06-.94-2.06-.94-.94-2.06-.94 2.06-2.06.94z\"/><path d=\"M17.41 7.96l-1.37-1.37c-.4-.4-.92-.59-1.43-.59-.52 0-1.04.2-1.43.59L10.3 9.45l-7.72 7.72c-.78.78-.78 2.05 0 2.83L4 21.41c.39.39.9.59 1.41.59.51 0 1.02-.2 1.41-.59l7.78-7.78 2.81-2.81c.8-.78.8-2.07 0-2.86zM5.41 20L4 18.59l7.72-7.72 1.47 1.35L5.41 20z\"/>\n",
              "  </svg>\n",
              "      </button>\n",
              "      \n",
              "  <style>\n",
              "    .colab-df-container {\n",
              "      display:flex;\n",
              "      flex-wrap:wrap;\n",
              "      gap: 12px;\n",
              "    }\n",
              "\n",
              "    .colab-df-convert {\n",
              "      background-color: #E8F0FE;\n",
              "      border: none;\n",
              "      border-radius: 50%;\n",
              "      cursor: pointer;\n",
              "      display: none;\n",
              "      fill: #1967D2;\n",
              "      height: 32px;\n",
              "      padding: 0 0 0 0;\n",
              "      width: 32px;\n",
              "    }\n",
              "\n",
              "    .colab-df-convert:hover {\n",
              "      background-color: #E2EBFA;\n",
              "      box-shadow: 0px 1px 2px rgba(60, 64, 67, 0.3), 0px 1px 3px 1px rgba(60, 64, 67, 0.15);\n",
              "      fill: #174EA6;\n",
              "    }\n",
              "\n",
              "    [theme=dark] .colab-df-convert {\n",
              "      background-color: #3B4455;\n",
              "      fill: #D2E3FC;\n",
              "    }\n",
              "\n",
              "    [theme=dark] .colab-df-convert:hover {\n",
              "      background-color: #434B5C;\n",
              "      box-shadow: 0px 1px 3px 1px rgba(0, 0, 0, 0.15);\n",
              "      filter: drop-shadow(0px 1px 2px rgba(0, 0, 0, 0.3));\n",
              "      fill: #FFFFFF;\n",
              "    }\n",
              "  </style>\n",
              "\n",
              "      <script>\n",
              "        const buttonEl =\n",
              "          document.querySelector('#df-b8348432-55d8-4f5c-a391-9dffb8fad3a6 button.colab-df-convert');\n",
              "        buttonEl.style.display =\n",
              "          google.colab.kernel.accessAllowed ? 'block' : 'none';\n",
              "\n",
              "        async function convertToInteractive(key) {\n",
              "          const element = document.querySelector('#df-b8348432-55d8-4f5c-a391-9dffb8fad3a6');\n",
              "          const dataTable =\n",
              "            await google.colab.kernel.invokeFunction('convertToInteractive',\n",
              "                                                     [key], {});\n",
              "          if (!dataTable) return;\n",
              "\n",
              "          const docLinkHtml = 'Like what you see? Visit the ' +\n",
              "            '<a target=\"_blank\" href=https://colab.research.google.com/notebooks/data_table.ipynb>data table notebook</a>'\n",
              "            + ' to learn more about interactive tables.';\n",
              "          element.innerHTML = '';\n",
              "          dataTable['output_type'] = 'display_data';\n",
              "          await google.colab.output.renderOutput(dataTable, element);\n",
              "          const docLink = document.createElement('div');\n",
              "          docLink.innerHTML = docLinkHtml;\n",
              "          element.appendChild(docLink);\n",
              "        }\n",
              "      </script>\n",
              "    </div>\n",
              "  </div>\n",
              "  "
            ]
          },
          "metadata": {},
          "execution_count": 10
        }
      ],
      "source": [
        "reduced_train"
      ]
    },
    {
      "cell_type": "markdown",
      "metadata": {
        "id": "pCNsD1lNSZ9r"
      },
      "source": [
        "# Plotting some of the extracted features"
      ]
    },
    {
      "cell_type": "code",
      "execution_count": null,
      "metadata": {
        "id": "yhZMxgsoKefL"
      },
      "outputs": [],
      "source": [
        "# fig, axarr = plt.subplots(2, 2, figsize=(15, 9))\n",
        "# reduced_train['MEAN_RR'][:70].plot(ax=axarr[0][0])\n",
        "# reduced_train['MEDIAN_RR'][:70].plot(ax=axarr[1][0])\n",
        "# reduced_train['MEDIAN_REL_RR'][:70].plot(ax=axarr[0][1])\n",
        "# reduced_train['SDRR_RMSSD_REL_RR'][:70].plot(ax=axarr[1][1])\n",
        "# axarr[0][0].set_title(\"Mean_RR\")\n",
        "# axarr[0][1].set_title(\"Median_RR\")\n",
        "# axarr[1][0].set_title(\"Median_Rel_RR\")\n",
        "# axarr[1][1].set_title(\"SDRR_RMSSD_REL_RR\")\n",
        "# plt.subplots_adjust(hspace=.3)\n",
        "# plt.show()"
      ]
    },
    {
      "cell_type": "code",
      "execution_count": null,
      "metadata": {
        "id": "SBoS8XnUHSZ8"
      },
      "outputs": [],
      "source": [
        "# reduced_train[['MEAN_RR','MEDIAN_RR']][:70].plot()"
      ]
    },
    {
      "cell_type": "markdown",
      "metadata": {
        "id": "EOaFjRYvSqF6"
      },
      "source": [
        "# Splitting data into features and respective labels"
      ]
    },
    {
      "cell_type": "code",
      "execution_count": null,
      "metadata": {
        "id": "2kBLfQEkdWAW"
      },
      "outputs": [],
      "source": [
        "X_train = reduced_train.iloc[:,:-1]\n",
        "y_train = reduced_train.iloc[:,-1]"
      ]
    },
    {
      "cell_type": "code",
      "execution_count": null,
      "metadata": {
        "id": "qhg8BQ8a7J5O"
      },
      "outputs": [],
      "source": [
        "X_test = test[X_train.columns]\n",
        "y_test = test['condition']"
      ]
    },
    {
      "cell_type": "code",
      "execution_count": null,
      "metadata": {
        "id": "-eMsDaeOSjib"
      },
      "outputs": [],
      "source": [
        "# X_train.head()"
      ]
    },
    {
      "cell_type": "code",
      "execution_count": null,
      "metadata": {
        "id": "J1pB5pjzSmwR",
        "outputId": "4e40883a-acc7-4b0a-a505-4c42ea7a7a68",
        "colab": {
          "base_uri": "https://localhost:8080/",
          "height": 270
        }
      },
      "outputs": [
        {
          "output_type": "execute_result",
          "data": {
            "text/plain": [
              "      MEAN_RR   MEDIAN_RR  SDRR_RMSSD  MEDIAN_REL_RR  SDRR_RMSSD_REL_RR  \\\n",
              "0  721.901897  727.267280    6.044877      -0.000951           1.570800   \n",
              "1  843.538633  844.407930    3.031234      -0.001543           1.918953   \n",
              "2  958.523868  966.671125    6.224565      -0.002000           2.298473   \n",
              "3  824.838669  842.485905   10.008830       0.000445           2.116033   \n",
              "4  756.707933  747.941620   10.777899      -0.000170           1.681034   \n",
              "\n",
              "           VLF    VLF_PCT  \n",
              "0  1016.073759  59.818117  \n",
              "1   765.518473  32.452560  \n",
              "2  2237.739905  51.696218  \n",
              "3  2330.980957  81.661325  \n",
              "4  4750.624447  89.465158  "
            ],
            "text/html": [
              "\n",
              "  <div id=\"df-1bbcf016-ed08-40d3-80a7-c23f38afd139\">\n",
              "    <div class=\"colab-df-container\">\n",
              "      <div>\n",
              "<style scoped>\n",
              "    .dataframe tbody tr th:only-of-type {\n",
              "        vertical-align: middle;\n",
              "    }\n",
              "\n",
              "    .dataframe tbody tr th {\n",
              "        vertical-align: top;\n",
              "    }\n",
              "\n",
              "    .dataframe thead th {\n",
              "        text-align: right;\n",
              "    }\n",
              "</style>\n",
              "<table border=\"1\" class=\"dataframe\">\n",
              "  <thead>\n",
              "    <tr style=\"text-align: right;\">\n",
              "      <th></th>\n",
              "      <th>MEAN_RR</th>\n",
              "      <th>MEDIAN_RR</th>\n",
              "      <th>SDRR_RMSSD</th>\n",
              "      <th>MEDIAN_REL_RR</th>\n",
              "      <th>SDRR_RMSSD_REL_RR</th>\n",
              "      <th>VLF</th>\n",
              "      <th>VLF_PCT</th>\n",
              "    </tr>\n",
              "  </thead>\n",
              "  <tbody>\n",
              "    <tr>\n",
              "      <th>0</th>\n",
              "      <td>721.901897</td>\n",
              "      <td>727.267280</td>\n",
              "      <td>6.044877</td>\n",
              "      <td>-0.000951</td>\n",
              "      <td>1.570800</td>\n",
              "      <td>1016.073759</td>\n",
              "      <td>59.818117</td>\n",
              "    </tr>\n",
              "    <tr>\n",
              "      <th>1</th>\n",
              "      <td>843.538633</td>\n",
              "      <td>844.407930</td>\n",
              "      <td>3.031234</td>\n",
              "      <td>-0.001543</td>\n",
              "      <td>1.918953</td>\n",
              "      <td>765.518473</td>\n",
              "      <td>32.452560</td>\n",
              "    </tr>\n",
              "    <tr>\n",
              "      <th>2</th>\n",
              "      <td>958.523868</td>\n",
              "      <td>966.671125</td>\n",
              "      <td>6.224565</td>\n",
              "      <td>-0.002000</td>\n",
              "      <td>2.298473</td>\n",
              "      <td>2237.739905</td>\n",
              "      <td>51.696218</td>\n",
              "    </tr>\n",
              "    <tr>\n",
              "      <th>3</th>\n",
              "      <td>824.838669</td>\n",
              "      <td>842.485905</td>\n",
              "      <td>10.008830</td>\n",
              "      <td>0.000445</td>\n",
              "      <td>2.116033</td>\n",
              "      <td>2330.980957</td>\n",
              "      <td>81.661325</td>\n",
              "    </tr>\n",
              "    <tr>\n",
              "      <th>4</th>\n",
              "      <td>756.707933</td>\n",
              "      <td>747.941620</td>\n",
              "      <td>10.777899</td>\n",
              "      <td>-0.000170</td>\n",
              "      <td>1.681034</td>\n",
              "      <td>4750.624447</td>\n",
              "      <td>89.465158</td>\n",
              "    </tr>\n",
              "  </tbody>\n",
              "</table>\n",
              "</div>\n",
              "      <button class=\"colab-df-convert\" onclick=\"convertToInteractive('df-1bbcf016-ed08-40d3-80a7-c23f38afd139')\"\n",
              "              title=\"Convert this dataframe to an interactive table.\"\n",
              "              style=\"display:none;\">\n",
              "        \n",
              "  <svg xmlns=\"http://www.w3.org/2000/svg\" height=\"24px\"viewBox=\"0 0 24 24\"\n",
              "       width=\"24px\">\n",
              "    <path d=\"M0 0h24v24H0V0z\" fill=\"none\"/>\n",
              "    <path d=\"M18.56 5.44l.94 2.06.94-2.06 2.06-.94-2.06-.94-.94-2.06-.94 2.06-2.06.94zm-11 1L8.5 8.5l.94-2.06 2.06-.94-2.06-.94L8.5 2.5l-.94 2.06-2.06.94zm10 10l.94 2.06.94-2.06 2.06-.94-2.06-.94-.94-2.06-.94 2.06-2.06.94z\"/><path d=\"M17.41 7.96l-1.37-1.37c-.4-.4-.92-.59-1.43-.59-.52 0-1.04.2-1.43.59L10.3 9.45l-7.72 7.72c-.78.78-.78 2.05 0 2.83L4 21.41c.39.39.9.59 1.41.59.51 0 1.02-.2 1.41-.59l7.78-7.78 2.81-2.81c.8-.78.8-2.07 0-2.86zM5.41 20L4 18.59l7.72-7.72 1.47 1.35L5.41 20z\"/>\n",
              "  </svg>\n",
              "      </button>\n",
              "      \n",
              "  <style>\n",
              "    .colab-df-container {\n",
              "      display:flex;\n",
              "      flex-wrap:wrap;\n",
              "      gap: 12px;\n",
              "    }\n",
              "\n",
              "    .colab-df-convert {\n",
              "      background-color: #E8F0FE;\n",
              "      border: none;\n",
              "      border-radius: 50%;\n",
              "      cursor: pointer;\n",
              "      display: none;\n",
              "      fill: #1967D2;\n",
              "      height: 32px;\n",
              "      padding: 0 0 0 0;\n",
              "      width: 32px;\n",
              "    }\n",
              "\n",
              "    .colab-df-convert:hover {\n",
              "      background-color: #E2EBFA;\n",
              "      box-shadow: 0px 1px 2px rgba(60, 64, 67, 0.3), 0px 1px 3px 1px rgba(60, 64, 67, 0.15);\n",
              "      fill: #174EA6;\n",
              "    }\n",
              "\n",
              "    [theme=dark] .colab-df-convert {\n",
              "      background-color: #3B4455;\n",
              "      fill: #D2E3FC;\n",
              "    }\n",
              "\n",
              "    [theme=dark] .colab-df-convert:hover {\n",
              "      background-color: #434B5C;\n",
              "      box-shadow: 0px 1px 3px 1px rgba(0, 0, 0, 0.15);\n",
              "      filter: drop-shadow(0px 1px 2px rgba(0, 0, 0, 0.3));\n",
              "      fill: #FFFFFF;\n",
              "    }\n",
              "  </style>\n",
              "\n",
              "      <script>\n",
              "        const buttonEl =\n",
              "          document.querySelector('#df-1bbcf016-ed08-40d3-80a7-c23f38afd139 button.colab-df-convert');\n",
              "        buttonEl.style.display =\n",
              "          google.colab.kernel.accessAllowed ? 'block' : 'none';\n",
              "\n",
              "        async function convertToInteractive(key) {\n",
              "          const element = document.querySelector('#df-1bbcf016-ed08-40d3-80a7-c23f38afd139');\n",
              "          const dataTable =\n",
              "            await google.colab.kernel.invokeFunction('convertToInteractive',\n",
              "                                                     [key], {});\n",
              "          if (!dataTable) return;\n",
              "\n",
              "          const docLinkHtml = 'Like what you see? Visit the ' +\n",
              "            '<a target=\"_blank\" href=https://colab.research.google.com/notebooks/data_table.ipynb>data table notebook</a>'\n",
              "            + ' to learn more about interactive tables.';\n",
              "          element.innerHTML = '';\n",
              "          dataTable['output_type'] = 'display_data';\n",
              "          await google.colab.output.renderOutput(dataTable, element);\n",
              "          const docLink = document.createElement('div');\n",
              "          docLink.innerHTML = docLinkHtml;\n",
              "          element.appendChild(docLink);\n",
              "        }\n",
              "      </script>\n",
              "    </div>\n",
              "  </div>\n",
              "  "
            ]
          },
          "metadata": {},
          "execution_count": 14
        }
      ],
      "source": [
        "X_test.head()"
      ]
    },
    {
      "cell_type": "markdown",
      "source": [
        "#kfold cross validation "
      ],
      "metadata": {
        "id": "ZApX0vp5QYb4"
      }
    },
    {
      "cell_type": "code",
      "source": [
        "from sklearn.model_selection import KFold\n",
        "X = pd.concat([X_train,X_test]).reset_index()\n",
        "Y = pd.concat([y_train,y_test]).reset_index()\n",
        "splits = 5 \n",
        "cv = KFold(splits)\n",
        "X.head()"
      ],
      "metadata": {
        "id": "V-HsVX2MRGRk",
        "colab": {
          "base_uri": "https://localhost:8080/",
          "height": 270
        },
        "outputId": "44ff4b35-06d7-4925-e331-28d12fab1c4d"
      },
      "execution_count": null,
      "outputs": [
        {
          "output_type": "execute_result",
          "data": {
            "text/plain": [
              "   index     MEAN_RR   MEDIAN_RR  SDRR_RMSSD  MEDIAN_REL_RR  \\\n",
              "0      0  885.157845  853.763730    9.063146      -0.000179   \n",
              "1      1  939.425371  948.357865    6.272369       0.000611   \n",
              "2      2  898.186047  907.006860    5.182201      -0.000263   \n",
              "3      3  881.757865  893.460030    5.748591       0.000494   \n",
              "4      4  809.625331  811.184865    3.266724      -0.002736   \n",
              "\n",
              "   SDRR_RMSSD_REL_RR          VLF    VLF_PCT  \n",
              "0           2.143342  2661.894136  72.203287  \n",
              "1           2.930855  2314.265450  76.975728  \n",
              "2           2.127053  1373.887112  51.152225  \n",
              "3           2.050988  2410.357408  70.180308  \n",
              "4           1.816544  1151.177330  43.918366  "
            ],
            "text/html": [
              "\n",
              "  <div id=\"df-758c7037-7212-4ef8-b5b0-5d8123d2c758\">\n",
              "    <div class=\"colab-df-container\">\n",
              "      <div>\n",
              "<style scoped>\n",
              "    .dataframe tbody tr th:only-of-type {\n",
              "        vertical-align: middle;\n",
              "    }\n",
              "\n",
              "    .dataframe tbody tr th {\n",
              "        vertical-align: top;\n",
              "    }\n",
              "\n",
              "    .dataframe thead th {\n",
              "        text-align: right;\n",
              "    }\n",
              "</style>\n",
              "<table border=\"1\" class=\"dataframe\">\n",
              "  <thead>\n",
              "    <tr style=\"text-align: right;\">\n",
              "      <th></th>\n",
              "      <th>index</th>\n",
              "      <th>MEAN_RR</th>\n",
              "      <th>MEDIAN_RR</th>\n",
              "      <th>SDRR_RMSSD</th>\n",
              "      <th>MEDIAN_REL_RR</th>\n",
              "      <th>SDRR_RMSSD_REL_RR</th>\n",
              "      <th>VLF</th>\n",
              "      <th>VLF_PCT</th>\n",
              "    </tr>\n",
              "  </thead>\n",
              "  <tbody>\n",
              "    <tr>\n",
              "      <th>0</th>\n",
              "      <td>0</td>\n",
              "      <td>885.157845</td>\n",
              "      <td>853.763730</td>\n",
              "      <td>9.063146</td>\n",
              "      <td>-0.000179</td>\n",
              "      <td>2.143342</td>\n",
              "      <td>2661.894136</td>\n",
              "      <td>72.203287</td>\n",
              "    </tr>\n",
              "    <tr>\n",
              "      <th>1</th>\n",
              "      <td>1</td>\n",
              "      <td>939.425371</td>\n",
              "      <td>948.357865</td>\n",
              "      <td>6.272369</td>\n",
              "      <td>0.000611</td>\n",
              "      <td>2.930855</td>\n",
              "      <td>2314.265450</td>\n",
              "      <td>76.975728</td>\n",
              "    </tr>\n",
              "    <tr>\n",
              "      <th>2</th>\n",
              "      <td>2</td>\n",
              "      <td>898.186047</td>\n",
              "      <td>907.006860</td>\n",
              "      <td>5.182201</td>\n",
              "      <td>-0.000263</td>\n",
              "      <td>2.127053</td>\n",
              "      <td>1373.887112</td>\n",
              "      <td>51.152225</td>\n",
              "    </tr>\n",
              "    <tr>\n",
              "      <th>3</th>\n",
              "      <td>3</td>\n",
              "      <td>881.757865</td>\n",
              "      <td>893.460030</td>\n",
              "      <td>5.748591</td>\n",
              "      <td>0.000494</td>\n",
              "      <td>2.050988</td>\n",
              "      <td>2410.357408</td>\n",
              "      <td>70.180308</td>\n",
              "    </tr>\n",
              "    <tr>\n",
              "      <th>4</th>\n",
              "      <td>4</td>\n",
              "      <td>809.625331</td>\n",
              "      <td>811.184865</td>\n",
              "      <td>3.266724</td>\n",
              "      <td>-0.002736</td>\n",
              "      <td>1.816544</td>\n",
              "      <td>1151.177330</td>\n",
              "      <td>43.918366</td>\n",
              "    </tr>\n",
              "  </tbody>\n",
              "</table>\n",
              "</div>\n",
              "      <button class=\"colab-df-convert\" onclick=\"convertToInteractive('df-758c7037-7212-4ef8-b5b0-5d8123d2c758')\"\n",
              "              title=\"Convert this dataframe to an interactive table.\"\n",
              "              style=\"display:none;\">\n",
              "        \n",
              "  <svg xmlns=\"http://www.w3.org/2000/svg\" height=\"24px\"viewBox=\"0 0 24 24\"\n",
              "       width=\"24px\">\n",
              "    <path d=\"M0 0h24v24H0V0z\" fill=\"none\"/>\n",
              "    <path d=\"M18.56 5.44l.94 2.06.94-2.06 2.06-.94-2.06-.94-.94-2.06-.94 2.06-2.06.94zm-11 1L8.5 8.5l.94-2.06 2.06-.94-2.06-.94L8.5 2.5l-.94 2.06-2.06.94zm10 10l.94 2.06.94-2.06 2.06-.94-2.06-.94-.94-2.06-.94 2.06-2.06.94z\"/><path d=\"M17.41 7.96l-1.37-1.37c-.4-.4-.92-.59-1.43-.59-.52 0-1.04.2-1.43.59L10.3 9.45l-7.72 7.72c-.78.78-.78 2.05 0 2.83L4 21.41c.39.39.9.59 1.41.59.51 0 1.02-.2 1.41-.59l7.78-7.78 2.81-2.81c.8-.78.8-2.07 0-2.86zM5.41 20L4 18.59l7.72-7.72 1.47 1.35L5.41 20z\"/>\n",
              "  </svg>\n",
              "      </button>\n",
              "      \n",
              "  <style>\n",
              "    .colab-df-container {\n",
              "      display:flex;\n",
              "      flex-wrap:wrap;\n",
              "      gap: 12px;\n",
              "    }\n",
              "\n",
              "    .colab-df-convert {\n",
              "      background-color: #E8F0FE;\n",
              "      border: none;\n",
              "      border-radius: 50%;\n",
              "      cursor: pointer;\n",
              "      display: none;\n",
              "      fill: #1967D2;\n",
              "      height: 32px;\n",
              "      padding: 0 0 0 0;\n",
              "      width: 32px;\n",
              "    }\n",
              "\n",
              "    .colab-df-convert:hover {\n",
              "      background-color: #E2EBFA;\n",
              "      box-shadow: 0px 1px 2px rgba(60, 64, 67, 0.3), 0px 1px 3px 1px rgba(60, 64, 67, 0.15);\n",
              "      fill: #174EA6;\n",
              "    }\n",
              "\n",
              "    [theme=dark] .colab-df-convert {\n",
              "      background-color: #3B4455;\n",
              "      fill: #D2E3FC;\n",
              "    }\n",
              "\n",
              "    [theme=dark] .colab-df-convert:hover {\n",
              "      background-color: #434B5C;\n",
              "      box-shadow: 0px 1px 3px 1px rgba(0, 0, 0, 0.15);\n",
              "      filter: drop-shadow(0px 1px 2px rgba(0, 0, 0, 0.3));\n",
              "      fill: #FFFFFF;\n",
              "    }\n",
              "  </style>\n",
              "\n",
              "      <script>\n",
              "        const buttonEl =\n",
              "          document.querySelector('#df-758c7037-7212-4ef8-b5b0-5d8123d2c758 button.colab-df-convert');\n",
              "        buttonEl.style.display =\n",
              "          google.colab.kernel.accessAllowed ? 'block' : 'none';\n",
              "\n",
              "        async function convertToInteractive(key) {\n",
              "          const element = document.querySelector('#df-758c7037-7212-4ef8-b5b0-5d8123d2c758');\n",
              "          const dataTable =\n",
              "            await google.colab.kernel.invokeFunction('convertToInteractive',\n",
              "                                                     [key], {});\n",
              "          if (!dataTable) return;\n",
              "\n",
              "          const docLinkHtml = 'Like what you see? Visit the ' +\n",
              "            '<a target=\"_blank\" href=https://colab.research.google.com/notebooks/data_table.ipynb>data table notebook</a>'\n",
              "            + ' to learn more about interactive tables.';\n",
              "          element.innerHTML = '';\n",
              "          dataTable['output_type'] = 'display_data';\n",
              "          await google.colab.output.renderOutput(dataTable, element);\n",
              "          const docLink = document.createElement('div');\n",
              "          docLink.innerHTML = docLinkHtml;\n",
              "          element.appendChild(docLink);\n",
              "        }\n",
              "      </script>\n",
              "    </div>\n",
              "  </div>\n",
              "  "
            ]
          },
          "metadata": {},
          "execution_count": 27
        }
      ]
    },
    {
      "cell_type": "code",
      "source": [],
      "metadata": {
        "id": "2IDKPx0X22uS"
      },
      "execution_count": null,
      "outputs": []
    },
    {
      "cell_type": "markdown",
      "source": [],
      "metadata": {
        "id": "VMkaZofrqLDV"
      }
    },
    {
      "cell_type": "markdown",
      "source": [
        "defining models"
      ],
      "metadata": {
        "id": "9RLThAxaWPbZ"
      }
    },
    {
      "cell_type": "code",
      "source": [
        "KNN1 = KNeighborsClassifier(n_neighbors=1)\n",
        "KNN2 = KNeighborsClassifier(n_neighbors=2)\n",
        "KNN3 = KNeighborsClassifier(n_neighbors=3)\n",
        "KNN4 = KNeighborsClassifier(n_neighbors=4)\n",
        "KNN5 = KNeighborsClassifier(n_neighbors=5)\n",
        "KNN6 = KNeighborsClassifier(n_neighbors=6)\n",
        "KNN7 = KNeighborsClassifier(n_neighbors=7)\n",
        "KNN8 = KNeighborsClassifier(n_neighbors=8)\n",
        "KNN9 = KNeighborsClassifier(n_neighbors=9)\n",
        "KNN10 = KNeighborsClassifier(n_neighbors=10)\n",
        "\n",
        "\n",
        "# RFC2 = RandomForestClassifier(n_estimators=50,random_state=1)\n",
        "# LG  = LogisticRegression(random_state=0)\n",
        "# RFC1 = RandomForestClassifier()\n",
        "# MLP = MLPClassifier(solver='lbfgs', alpha=1e-5,hidden_layer_sizes=(5, 2), random_state=1)\n",
        "\n",
        "knn1_score =[]\n",
        "knn2_score =[]\n",
        "knn3_score =[]\n",
        "knn4_score =[]\n",
        "knn5_score =[]\n",
        "knn6_score =[]\n",
        "knn7_score =[]\n",
        "knn8_score =[]\n",
        "knn9_score =[]\n",
        "knn10_score =[]\n",
        "\n",
        "\n",
        "\n",
        "# rfc2_score =[]\n",
        "# rfc1_score =[]\n",
        "# lr_score  =[]\n",
        "# mlp_score = []"
      ],
      "metadata": {
        "id": "IvrGxSEERJZB"
      },
      "execution_count": null,
      "outputs": []
    },
    {
      "cell_type": "code",
      "source": [
        "for train_index, test_index in cv.split(X):\n",
        "#   # print(train_index[-1])\n",
        "\n",
        "  y_train_fold = Y[train_index[0]:train_index[-1]]\n",
        "  X_train_fold = X[train_index[0]:train_index[-1]] \n",
        "\n",
        "  y_test_fold = Y[test_index[0]:test_index[-1]]\n",
        "  X_test_fold = X[test_index[0]:test_index[-1]] \n",
        "\n",
        "\n",
        "\n",
        "  KNN1.fit(X_train_fold,y_train_fold)\n",
        "  KNN2.fit(X_train_fold,y_train_fold)\n",
        "  KNN3.fit(X_train_fold,y_train_fold)\n",
        "  KNN4.fit(X_train_fold,y_train_fold)\n",
        "  KNN5.fit(X_train_fold,y_train_fold)\n",
        "  KNN6.fit(X_train_fold,y_train_fold)\n",
        "  KNN7.fit(X_train_fold,y_train_fold)\n",
        "  KNN8.fit(X_train_fold,y_train_fold)\n",
        "  KNN9.fit(X_train_fold,y_train_fold)\n",
        "  KNN10.fit(X_train_fold,y_train_fold)\n",
        "\n",
        "#   # RFC2.fit(X_train_fold,y_train_fold)\n",
        "#   RFC1.fit(X_train_fold,y_train_fold)\n",
        "#   LG.fit(X_train_fold,y_train_fold)\n",
        "#   MLP.fit(X_train_fold,y_train_fold)\n",
        "\n",
        "  pred_KNN1=KNN1.predict(X_test_fold)\n",
        "  pred_KNN2=KNN2.predict(X_test_fold)\n",
        "  pred_KNN3=KNN3.predict(X_test_fold)\n",
        "  pred_KNN4=KNN4.predict(X_test_fold)\n",
        "  pred_KNN5=KNN5.predict(X_test_fold)\n",
        "  pred_KNN6=KNN6.predict(X_test_fold)\n",
        "  pred_KNN7=KNN7.predict(X_test_fold)\n",
        "  pred_KNN8=KNN8.predict(X_test_fold)\n",
        "  pred_KNN9=KNN9.predict(X_test_fold)\n",
        "  pred_KNN10=KNN10.predict(X_test_fold)\n",
        "\n",
        "#   pred_RFC2=RFC2.predict(X_test_fold)\n",
        "#   pred_RFC1=RFC1.predict(X_test_fold)\n",
        "#   pred_LG=LG.predict(X_test_fold)\n",
        "#   pred_MLP=LG.predict(X_test_fold)\n",
        "\n",
        "\n",
        "  accur_KNN1=accuracy_score(y_test_fold,pred_KNN1)\n",
        "  accur_KNN2=accuracy_score(y_test_fold,pred_KNN2)\n",
        "  accur_KNN3=accuracy_score(y_test_fold,pred_KNN3)\n",
        "  accur_KNN4=accuracy_score(y_test_fold,pred_KNN4)\n",
        "  accur_KNN5=accuracy_score(y_test_fold,pred_KNN5)\n",
        "  accur_KNN6=accuracy_score(y_test_fold,pred_KNN6)\n",
        "  accur_KNN7=accuracy_score(y_test_fold,pred_KNN7)\n",
        "  accur_KNN8=accuracy_score(y_test_fold,pred_KNN8)\n",
        "  accur_KNN9=accuracy_score(y_test_fold,pred_KNN9)\n",
        "  accur_KNN10=accuracy_score(y_test_fold,pred_KNN10)\n",
        "\n",
        "#   # accur_RFC2=accuracy_score(y_test_fold,pred_RFC2)\n",
        "#   accur_RFC1=accuracy_score(y_test_fold,pred_RFC1)\n",
        "#   accur_LG=accuracy_score(y_test_fold,pred_LG)\n",
        "#   accur_MLP=accuracy_score(y_test_fold,pred_MLP)\n",
        "\n",
        "  \n",
        "# print('KNN Accuracy:', accur_KNN)\n",
        "#   # print('RFC2 Accuracy:', accur_RFC2)\n",
        "#   print('RFC1 Accuracy:', accur_RFC1)\n",
        "#   print('LR  Accuracy:', accur_LG)\n",
        "#   print('MLP  Accuracy:', accur_MLP)\n",
        "#   print('##################################')\n",
        "\n",
        "\n",
        "  knn1_score.append(accur_KNN1)\n",
        "  knn2_score.append(accur_KNN2)\n",
        "  knn3_score.append(accur_KNN3)\n",
        "  knn4_score.append(accur_KNN4)\n",
        "  knn5_score.append(accur_KNN5)\n",
        "  knn6_score.append(accur_KNN6)\n",
        "  knn7_score.append(accur_KNN7)\n",
        "  knn8_score.append(accur_KNN8)\n",
        "  knn9_score.append(accur_KNN9)\n",
        "  knn10_score.append(accur_KNN10)\n",
        "\n",
        "#   # rfc2_score.append(accur_RFC2)\n",
        "#   rfc1_score.append(accur_RFC1)\n",
        "#   mlp_score.append(accur_MLP)\n",
        "#   lr_score.append(accur_LG)"
      ],
      "metadata": {
        "id": "c1YsqHdglAIL",
        "colab": {
          "base_uri": "https://localhost:8080/",
          "height": 502
        },
        "outputId": "bd4cea04-6c61-4534-c9c5-d8e0b80ea006"
      },
      "execution_count": null,
      "outputs": [
        {
          "output_type": "error",
          "ename": "ValueError",
          "evalue": "ignored",
          "traceback": [
            "\u001b[0;31m---------------------------------------------------------------------------\u001b[0m",
            "\u001b[0;31mValueError\u001b[0m                                Traceback (most recent call last)",
            "\u001b[0;32m<ipython-input-30-74d9bb97af5a>\u001b[0m in \u001b[0;36m<module>\u001b[0;34m\u001b[0m\n\u001b[1;32m     43\u001b[0m \u001b[0;34m\u001b[0m\u001b[0m\n\u001b[1;32m     44\u001b[0m \u001b[0;34m\u001b[0m\u001b[0m\n\u001b[0;32m---> 45\u001b[0;31m   \u001b[0maccur_KNN1\u001b[0m\u001b[0;34m=\u001b[0m\u001b[0maccuracy_score\u001b[0m\u001b[0;34m(\u001b[0m\u001b[0my_test_fold\u001b[0m\u001b[0;34m,\u001b[0m\u001b[0mpred_KNN1\u001b[0m\u001b[0;34m)\u001b[0m\u001b[0;34m\u001b[0m\u001b[0;34m\u001b[0m\u001b[0m\n\u001b[0m\u001b[1;32m     46\u001b[0m   \u001b[0maccur_KNN2\u001b[0m\u001b[0;34m=\u001b[0m\u001b[0maccuracy_score\u001b[0m\u001b[0;34m(\u001b[0m\u001b[0my_test_fold\u001b[0m\u001b[0;34m,\u001b[0m\u001b[0mpred_KNN2\u001b[0m\u001b[0;34m)\u001b[0m\u001b[0;34m\u001b[0m\u001b[0;34m\u001b[0m\u001b[0m\n\u001b[1;32m     47\u001b[0m   \u001b[0maccur_KNN3\u001b[0m\u001b[0;34m=\u001b[0m\u001b[0maccuracy_score\u001b[0m\u001b[0;34m(\u001b[0m\u001b[0my_test_fold\u001b[0m\u001b[0;34m,\u001b[0m\u001b[0mpred_KNN3\u001b[0m\u001b[0;34m)\u001b[0m\u001b[0;34m\u001b[0m\u001b[0;34m\u001b[0m\u001b[0m\n",
            "\u001b[0;32m/usr/local/lib/python3.7/dist-packages/sklearn/metrics/_classification.py\u001b[0m in \u001b[0;36maccuracy_score\u001b[0;34m(y_true, y_pred, normalize, sample_weight)\u001b[0m\n\u001b[1;32m    209\u001b[0m \u001b[0;34m\u001b[0m\u001b[0m\n\u001b[1;32m    210\u001b[0m     \u001b[0;31m# Compute accuracy for each possible representation\u001b[0m\u001b[0;34m\u001b[0m\u001b[0;34m\u001b[0m\u001b[0;34m\u001b[0m\u001b[0m\n\u001b[0;32m--> 211\u001b[0;31m     \u001b[0my_type\u001b[0m\u001b[0;34m,\u001b[0m \u001b[0my_true\u001b[0m\u001b[0;34m,\u001b[0m \u001b[0my_pred\u001b[0m \u001b[0;34m=\u001b[0m \u001b[0m_check_targets\u001b[0m\u001b[0;34m(\u001b[0m\u001b[0my_true\u001b[0m\u001b[0;34m,\u001b[0m \u001b[0my_pred\u001b[0m\u001b[0;34m)\u001b[0m\u001b[0;34m\u001b[0m\u001b[0;34m\u001b[0m\u001b[0m\n\u001b[0m\u001b[1;32m    212\u001b[0m     \u001b[0mcheck_consistent_length\u001b[0m\u001b[0;34m(\u001b[0m\u001b[0my_true\u001b[0m\u001b[0;34m,\u001b[0m \u001b[0my_pred\u001b[0m\u001b[0;34m,\u001b[0m \u001b[0msample_weight\u001b[0m\u001b[0;34m)\u001b[0m\u001b[0;34m\u001b[0m\u001b[0;34m\u001b[0m\u001b[0m\n\u001b[1;32m    213\u001b[0m     \u001b[0;32mif\u001b[0m \u001b[0my_type\u001b[0m\u001b[0;34m.\u001b[0m\u001b[0mstartswith\u001b[0m\u001b[0;34m(\u001b[0m\u001b[0;34m\"multilabel\"\u001b[0m\u001b[0;34m)\u001b[0m\u001b[0;34m:\u001b[0m\u001b[0;34m\u001b[0m\u001b[0;34m\u001b[0m\u001b[0m\n",
            "\u001b[0;32m/usr/local/lib/python3.7/dist-packages/sklearn/metrics/_classification.py\u001b[0m in \u001b[0;36m_check_targets\u001b[0;34m(y_true, y_pred)\u001b[0m\n\u001b[1;32m    102\u001b[0m     \u001b[0;31m# No metrics support \"multiclass-multioutput\" format\u001b[0m\u001b[0;34m\u001b[0m\u001b[0;34m\u001b[0m\u001b[0;34m\u001b[0m\u001b[0m\n\u001b[1;32m    103\u001b[0m     \u001b[0;32mif\u001b[0m \u001b[0my_type\u001b[0m \u001b[0;32mnot\u001b[0m \u001b[0;32min\u001b[0m \u001b[0;34m[\u001b[0m\u001b[0;34m\"binary\"\u001b[0m\u001b[0;34m,\u001b[0m \u001b[0;34m\"multiclass\"\u001b[0m\u001b[0;34m,\u001b[0m \u001b[0;34m\"multilabel-indicator\"\u001b[0m\u001b[0;34m]\u001b[0m\u001b[0;34m:\u001b[0m\u001b[0;34m\u001b[0m\u001b[0;34m\u001b[0m\u001b[0m\n\u001b[0;32m--> 104\u001b[0;31m         \u001b[0;32mraise\u001b[0m \u001b[0mValueError\u001b[0m\u001b[0;34m(\u001b[0m\u001b[0;34m\"{0} is not supported\"\u001b[0m\u001b[0;34m.\u001b[0m\u001b[0mformat\u001b[0m\u001b[0;34m(\u001b[0m\u001b[0my_type\u001b[0m\u001b[0;34m)\u001b[0m\u001b[0;34m)\u001b[0m\u001b[0;34m\u001b[0m\u001b[0;34m\u001b[0m\u001b[0m\n\u001b[0m\u001b[1;32m    105\u001b[0m \u001b[0;34m\u001b[0m\u001b[0m\n\u001b[1;32m    106\u001b[0m     \u001b[0;32mif\u001b[0m \u001b[0my_type\u001b[0m \u001b[0;32min\u001b[0m \u001b[0;34m[\u001b[0m\u001b[0;34m\"binary\"\u001b[0m\u001b[0;34m,\u001b[0m \u001b[0;34m\"multiclass\"\u001b[0m\u001b[0;34m]\u001b[0m\u001b[0;34m:\u001b[0m\u001b[0;34m\u001b[0m\u001b[0;34m\u001b[0m\u001b[0m\n",
            "\u001b[0;31mValueError\u001b[0m: multiclass-multioutput is not supported"
          ]
        }
      ]
    },
    {
      "cell_type": "markdown",
      "metadata": {
        "id": "ak7_2bLESyIX"
      },
      "source": [
        "# Defining a \"Random Forest\" model and training it."
      ]
    },
    {
      "cell_type": "code",
      "execution_count": null,
      "metadata": {
        "id": "mnt5NZZ5gVWg",
        "colab": {
          "base_uri": "https://localhost:8080/"
        },
        "outputId": "c3486388-bce0-4ba3-8f57-a42cbc0b5a0a"
      },
      "outputs": [
        {
          "output_type": "stream",
          "name": "stderr",
          "text": [
            "/usr/local/lib/python3.7/dist-packages/sklearn/neural_network/_multilayer_perceptron.py:696: ConvergenceWarning: Stochastic Optimizer: Maximum iterations (200) reached and the optimization hasn't converged yet.\n",
            "  ConvergenceWarning,\n"
          ]
        },
        {
          "output_type": "execute_result",
          "data": {
            "text/plain": [
              "MLPClassifier()"
            ]
          },
          "metadata": {},
          "execution_count": 50
        }
      ],
      "source": [
        "# model = RandomForestClassifier()\n",
        "# model.fit(X_train,y_train)\n",
        "# y_pred = model.predict(X_test)\n",
        "\n",
        "\n"
      ]
    },
    {
      "cell_type": "markdown",
      "metadata": {
        "id": "mR9S0D2ES9yl"
      },
      "source": [
        "# Printing the model performance and classification report.\n"
      ]
    },
    {
      "cell_type": "code",
      "execution_count": null,
      "metadata": {
        "id": "nW1C4nydjpQG",
        "colab": {
          "base_uri": "https://localhost:8080/"
        },
        "outputId": "12f54c92-e2c2-45f8-f238-17681503a5c4"
      },
      "outputs": [
        {
          "output_type": "execute_result",
          "data": {
            "text/plain": [
              "1.0"
            ]
          },
          "metadata": {},
          "execution_count": 53
        }
      ],
      "source": [
        "# accuracy_score(y_test,y_pred)"
      ]
    },
    {
      "cell_type": "code",
      "execution_count": null,
      "metadata": {
        "id": "SEC0bgQ2kKoW",
        "colab": {
          "base_uri": "https://localhost:8080/"
        },
        "outputId": "f2c7ef92-0d52-44e4-8d53-4c65bcff342d"
      },
      "outputs": [
        {
          "output_type": "stream",
          "name": "stdout",
          "text": [
            "              precision    recall  f1-score   support\n",
            "\n",
            "           0       1.00      1.00      1.00     11782\n",
            "           1       1.00      1.00      1.00     22158\n",
            "           2       1.00      1.00      1.00      7093\n",
            "\n",
            "    accuracy                           1.00     41033\n",
            "   macro avg       1.00      1.00      1.00     41033\n",
            "weighted avg       1.00      1.00      1.00     41033\n",
            "\n"
          ]
        }
      ],
      "source": [
        "# print(classification_report(y_test,y_pred))"
      ]
    },
    {
      "cell_type": "code",
      "execution_count": null,
      "metadata": {
        "id": "ooJQB8-gkkOO"
      },
      "outputs": [],
      "source": [
        "# filename = 'randomForest.sav'\n",
        "# pickle.dump(model, open(filename, 'wb'))"
      ]
    },
    {
      "cell_type": "markdown",
      "source": [
        "svm"
      ],
      "metadata": {
        "id": "9z8KWOFSQP9m"
      }
    },
    {
      "cell_type": "code",
      "execution_count": null,
      "metadata": {
        "id": "jOEOxQTNsCVW"
      },
      "outputs": [],
      "source": [
        "\n",
        "clf = svm.SVC(kernel='linear')\n",
        "clf.fit(X_train,y_train)\n",
        "clf_pred = clf.predict(X_test)\n",
        "accuracy_score(y_test,clf_pred)"
      ]
    },
    {
      "cell_type": "markdown",
      "source": [
        "MLP"
      ],
      "metadata": {
        "id": "E2HUaQna5hGP"
      }
    },
    {
      "cell_type": "code",
      "source": [
        "# MLP = MLPClassifier(solver='lbfgs', alpha=1e-5,hidden_layer_sizes=(3, 50), random_state=1)\n",
        "# MLP.fit(X_train,y_train)\n",
        "# MLP_pred = MLP.predict(X_test)\n",
        "# accuracy_score(y_test,MLP_pred)"
      ],
      "metadata": {
        "colab": {
          "base_uri": "https://localhost:8080/"
        },
        "id": "IciIhOf_5ipu",
        "outputId": "895d5d4f-321a-48d2-df33-8436324cff45"
      },
      "execution_count": null,
      "outputs": [
        {
          "output_type": "execute_result",
          "data": {
            "text/plain": [
              "0.5400043867131333"
            ]
          },
          "metadata": {},
          "execution_count": 70
        }
      ]
    },
    {
      "cell_type": "code",
      "source": [
        "# print(classification_report(y_test,MLP_pred))"
      ],
      "metadata": {
        "colab": {
          "base_uri": "https://localhost:8080/"
        },
        "id": "VZXVOiXk6anE",
        "outputId": "3f021f11-9ff2-4186-df74-50a78391fb6c"
      },
      "execution_count": null,
      "outputs": [
        {
          "output_type": "stream",
          "name": "stdout",
          "text": [
            "              precision    recall  f1-score   support\n",
            "\n",
            "           0       0.00      0.00      0.00     11782\n",
            "           1       0.54      1.00      0.70     22158\n",
            "           2       0.00      0.00      0.00      7093\n",
            "\n",
            "    accuracy                           0.54     41033\n",
            "   macro avg       0.18      0.33      0.23     41033\n",
            "weighted avg       0.29      0.54      0.38     41033\n",
            "\n"
          ]
        },
        {
          "output_type": "stream",
          "name": "stderr",
          "text": [
            "/usr/local/lib/python3.7/dist-packages/sklearn/metrics/_classification.py:1318: UndefinedMetricWarning: Precision and F-score are ill-defined and being set to 0.0 in labels with no predicted samples. Use `zero_division` parameter to control this behavior.\n",
            "  _warn_prf(average, modifier, msg_start, len(result))\n",
            "/usr/local/lib/python3.7/dist-packages/sklearn/metrics/_classification.py:1318: UndefinedMetricWarning: Precision and F-score are ill-defined and being set to 0.0 in labels with no predicted samples. Use `zero_division` parameter to control this behavior.\n",
            "  _warn_prf(average, modifier, msg_start, len(result))\n",
            "/usr/local/lib/python3.7/dist-packages/sklearn/metrics/_classification.py:1318: UndefinedMetricWarning: Precision and F-score are ill-defined and being set to 0.0 in labels with no predicted samples. Use `zero_division` parameter to control this behavior.\n",
            "  _warn_prf(average, modifier, msg_start, len(result))\n"
          ]
        }
      ]
    },
    {
      "cell_type": "markdown",
      "source": [
        "KNN"
      ],
      "metadata": {
        "id": "7toL0AQmqbll"
      }
    },
    {
      "cell_type": "code",
      "source": [
        "KNN = KNeighborsClassifier(n_neighbors=3)\n",
        "KNN.fit(X_train,y_train)\n",
        "knn_pred = KNN.predict(X_test)\n",
        "print(accuracy_score(y_test,knn_pred))\n",
        "print(classification_report(y_test,knn_pred))\n"
      ],
      "metadata": {
        "colab": {
          "base_uri": "https://localhost:8080/"
        },
        "id": "if_gOlu4qceM",
        "outputId": "639ed031-b148-4352-c974-f30892dcf633"
      },
      "execution_count": null,
      "outputs": [
        {
          "output_type": "stream",
          "name": "stdout",
          "text": [
            "0.9722662247459362\n",
            "              precision    recall  f1-score   support\n",
            "\n",
            "           0       0.97      0.97      0.97     11782\n",
            "           1       0.98      0.98      0.98     22158\n",
            "           2       0.96      0.96      0.96      7093\n",
            "\n",
            "    accuracy                           0.97     41033\n",
            "   macro avg       0.97      0.97      0.97     41033\n",
            "weighted avg       0.97      0.97      0.97     41033\n",
            "\n"
          ]
        }
      ]
    },
    {
      "cell_type": "code",
      "source": [
        "filename = 'knn.sav'\n",
        "pickle.dump(KNN, open(filename, 'wb'))"
      ],
      "metadata": {
        "id": "Y5YsJ-s2taJS"
      },
      "execution_count": null,
      "outputs": []
    },
    {
      "cell_type": "markdown",
      "source": [
        "logistic regression "
      ],
      "metadata": {
        "id": "3O5biSbYsAyP"
      }
    },
    {
      "cell_type": "code",
      "source": [
        "# LR = LogisticRegression()\n",
        "# LR.fit(X_train,y_train)\n",
        "# lr_pred = LR.predict(X_test)\n",
        "# print(accuracy_score(y_test,lr_pred))\n",
        "# print(classification_report(y_test,lr_pred))"
      ],
      "metadata": {
        "colab": {
          "base_uri": "https://localhost:8080/"
        },
        "id": "w3OUr55DsY90",
        "outputId": "45cf851b-effe-4d2a-bfa2-40d48cb8d90d"
      },
      "execution_count": null,
      "outputs": [
        {
          "output_type": "stream",
          "name": "stdout",
          "text": [
            "0.5493627080642409\n",
            "              precision    recall  f1-score   support\n",
            "\n",
            "           0       0.48      0.30      0.37     11782\n",
            "           1       0.58      0.83      0.68     22158\n",
            "           2       0.32      0.08      0.13      7093\n",
            "\n",
            "    accuracy                           0.55     41033\n",
            "   macro avg       0.46      0.40      0.39     41033\n",
            "weighted avg       0.50      0.55      0.50     41033\n",
            "\n"
          ]
        },
        {
          "output_type": "stream",
          "name": "stderr",
          "text": [
            "/usr/local/lib/python3.7/dist-packages/sklearn/linear_model/_logistic.py:818: ConvergenceWarning: lbfgs failed to converge (status=1):\n",
            "STOP: TOTAL NO. of ITERATIONS REACHED LIMIT.\n",
            "\n",
            "Increase the number of iterations (max_iter) or scale the data as shown in:\n",
            "    https://scikit-learn.org/stable/modules/preprocessing.html\n",
            "Please also refer to the documentation for alternative solver options:\n",
            "    https://scikit-learn.org/stable/modules/linear_model.html#logistic-regression\n",
            "  extra_warning_msg=_LOGISTIC_SOLVER_CONVERGENCE_MSG,\n"
          ]
        }
      ]
    }
  ],
  "metadata": {
    "kernelspec": {
      "display_name": "Python 3 (ipykernel)",
      "language": "python",
      "name": "python3"
    },
    "language_info": {
      "codemirror_mode": {
        "name": "ipython",
        "version": 3
      },
      "file_extension": ".py",
      "mimetype": "text/x-python",
      "name": "python",
      "nbconvert_exporter": "python",
      "pygments_lexer": "ipython3",
      "version": "3.8.10"
    },
    "colab": {
      "provenance": []
    }
  },
  "nbformat": 4,
  "nbformat_minor": 0
}